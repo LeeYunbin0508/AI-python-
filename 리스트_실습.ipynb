{
  "nbformat": 4,
  "nbformat_minor": 0,
  "metadata": {
    "colab": {
      "provenance": [],
      "authorship_tag": "ABX9TyNjkLX9StIlPVPj19hFEEeG",
      "include_colab_link": true
    },
    "kernelspec": {
      "name": "python3",
      "display_name": "Python 3"
    },
    "language_info": {
      "name": "python"
    }
  },
  "cells": [
    {
      "cell_type": "markdown",
      "metadata": {
        "id": "view-in-github",
        "colab_type": "text"
      },
      "source": [
        "<a href=\"https://colab.research.google.com/github/LeeYunbin0508/AI-python-/blob/main/%EB%A6%AC%EC%8A%A4%ED%8A%B8_%EC%8B%A4%EC%8A%B5.ipynb\" target=\"_parent\"><img src=\"https://colab.research.google.com/assets/colab-badge.svg\" alt=\"Open In Colab\"/></a>"
      ]
    },
    {
      "cell_type": "code",
      "execution_count": 1,
      "metadata": {
        "id": "GZmMrhZw1YSo",
        "colab": {
          "base_uri": "https://localhost:8080/"
        },
        "outputId": "152ac0dd-1617-45ec-bad2-946b862e839c"
      },
      "outputs": [
        {
          "output_type": "stream",
          "name": "stdout",
          "text": [
            "[10, 20, 30, 40]\n"
          ]
        }
      ],
      "source": [
        "# 초기값이 있는 리스트 생성\n",
        "a = [10,20,30,40]\n",
        "print(a)"
      ]
    },
    {
      "cell_type": "code",
      "source": [
        "# 빈 리스트 생성\n",
        "a = []\n",
        "print(a)"
      ],
      "metadata": {
        "colab": {
          "base_uri": "https://localhost:8080/"
        },
        "id": "CXvjraTK22ji",
        "outputId": "6eaa7844-b521-4abb-ab9e-1d7213fe90d8"
      },
      "execution_count": 2,
      "outputs": [
        {
          "output_type": "stream",
          "name": "stdout",
          "text": [
            "[]\n"
          ]
        }
      ]
    },
    {
      "cell_type": "code",
      "source": [
        "a = [10,20,['one','two']]\n",
        "print(a)"
      ],
      "metadata": {
        "colab": {
          "base_uri": "https://localhost:8080/"
        },
        "id": "u08WeQGo29wI",
        "outputId": "f8c56c8f-4c48-4759-96fc-abb33911f7e8"
      },
      "execution_count": 3,
      "outputs": [
        {
          "output_type": "stream",
          "name": "stdout",
          "text": [
            "[10, 20, ['one', 'two']]\n"
          ]
        }
      ]
    },
    {
      "cell_type": "code",
      "source": [
        "# 리스트 데이터 항목 사용\n",
        "x = [10,20,30,40]\n",
        "\n",
        "print(x)\n",
        "print(x[0],x[3]) # index = 0, index = 3인 값을 출력\n",
        "print(x[1:3]) # index = 1부터 index = 2인 값을 출력"
      ],
      "metadata": {
        "colab": {
          "base_uri": "https://localhost:8080/"
        },
        "id": "UyMv-Fy33Hu6",
        "outputId": "72748008-bfb7-451b-97b9-d298c227263f"
      },
      "execution_count": 4,
      "outputs": [
        {
          "output_type": "stream",
          "name": "stdout",
          "text": [
            "[10, 20, 30, 40]\n",
            "10 40\n",
            "[20, 30]\n"
          ]
        }
      ]
    },
    {
      "cell_type": "code",
      "source": [
        "x = [20]\n",
        "print(x)\n",
        "\n",
        "x.append(30) # 30이라는 값을 x 리스트 끝에 추가\n",
        "print(x)\n",
        "\n",
        "x.insert(0,10) # index = 0에 10이라는 값을 삽입\n",
        "print(x)\n",
        "\n",
        "x.extend([40,50]) # [40,50] 리스트를 x 리스트 뒤에 붙임\n",
        "print(x)"
      ],
      "metadata": {
        "colab": {
          "base_uri": "https://localhost:8080/"
        },
        "id": "BXL-uQOv3da-",
        "outputId": "10bf9358-eb56-4cf6-cc63-d6c84a326ff4"
      },
      "execution_count": 7,
      "outputs": [
        {
          "output_type": "stream",
          "name": "stdout",
          "text": [
            "[20]\n",
            "[20, 30]\n",
            "[10, 20, 30]\n",
            "[10, 20, 30, 40, 50]\n"
          ]
        }
      ]
    },
    {
      "cell_type": "code",
      "source": [
        "x = [10,20,30,40]\n",
        "\n",
        "x.remove(10) # 10이라는 값을 x 리스트에서 삭제\n",
        "print(x)\n",
        "\n",
        "x.pop(2) # index = 2인 값을 x 리스트에서 삭제\n",
        "print(x)\n",
        "\n",
        "x.clear() # 리스트 전체를 삭제\n",
        "print(x)"
      ],
      "metadata": {
        "colab": {
          "base_uri": "https://localhost:8080/"
        },
        "id": "WyWN9u4A4vP2",
        "outputId": "5d493265-4a8e-4018-d1ab-787a0f114434"
      },
      "execution_count": 10,
      "outputs": [
        {
          "output_type": "stream",
          "name": "stdout",
          "text": [
            "[20, 30, 40]\n",
            "[20, 30]\n",
            "[]\n"
          ]
        }
      ]
    },
    {
      "cell_type": "code",
      "source": [
        "x = [10,20,30,10,10]\n",
        "\n",
        "print(x.index(30)) # 30이라는 값의 index 번호를 반환\n",
        "print(x.count(10)) # 10이라는 값이 x 리스트에서 존재하는 개수를 반환"
      ],
      "metadata": {
        "colab": {
          "base_uri": "https://localhost:8080/"
        },
        "id": "ME2u19BO5JRY",
        "outputId": "edb0dae6-5a77-4d59-caef-fd1b422e476d"
      },
      "execution_count": 11,
      "outputs": [
        {
          "output_type": "stream",
          "name": "stdout",
          "text": [
            "2\n",
            "3\n"
          ]
        }
      ]
    },
    {
      "cell_type": "code",
      "source": [
        "# 리스트를 이용한 if문과 for문\n",
        "\n",
        "개설과목 = ['컴퓨터','파이썬','인공지능']\n",
        "\n",
        "if '파이썬' in 개설과목:\n",
        "  print('파이썬 과목이 개설 되었습니다.')\n",
        "\n",
        "for 과목 in 개설과목:\n",
        "  print(과목)"
      ],
      "metadata": {
        "colab": {
          "base_uri": "https://localhost:8080/"
        },
        "id": "JIBndIJG5Y9Z",
        "outputId": "de5bf027-8a60-4847-baaf-767a6d9d4e6e"
      },
      "execution_count": 12,
      "outputs": [
        {
          "output_type": "stream",
          "name": "stdout",
          "text": [
            "파이썬 과목이 개설 되었습니다.\n",
            "컴퓨터\n",
            "파이썬\n",
            "인공지능\n"
          ]
        }
      ]
    },
    {
      "cell_type": "code",
      "source": [
        "a = [10,20,30]\n",
        "\n",
        "print(\"최솟값:\",min(a))\n",
        "print(\"최댓값:\",max(a))\n",
        "print(\"합계:\",sum(a))\n",
        "print(\"길이(개수):\",len(a))"
      ],
      "metadata": {
        "colab": {
          "base_uri": "https://localhost:8080/"
        },
        "id": "8YUmpEYK50FF",
        "outputId": "c6c1f0f4-9522-4d53-84a2-0acfb6e6195e"
      },
      "execution_count": 14,
      "outputs": [
        {
          "output_type": "stream",
          "name": "stdout",
          "text": [
            "최솟값: 10\n",
            "최댓값: 30\n",
            "합계: 60\n",
            "길이(개수): 3\n"
          ]
        }
      ]
    },
    {
      "cell_type": "code",
      "source": [
        "a = ['10','20','30']\n",
        "print(sum(a)) # 에러 발생"
      ],
      "metadata": {
        "colab": {
          "base_uri": "https://localhost:8080/",
          "height": 199
        },
        "id": "_UhqLJTb8MGY",
        "outputId": "2bcc908e-c7ef-4c5f-e7ae-038b5067089c"
      },
      "execution_count": 15,
      "outputs": [
        {
          "output_type": "error",
          "ename": "TypeError",
          "evalue": "ignored",
          "traceback": [
            "\u001b[0;31m---------------------------------------------------------------------------\u001b[0m",
            "\u001b[0;31mTypeError\u001b[0m                                 Traceback (most recent call last)",
            "\u001b[0;32m<ipython-input-15-4c7b49aee490>\u001b[0m in \u001b[0;36m<cell line: 2>\u001b[0;34m()\u001b[0m\n\u001b[1;32m      1\u001b[0m \u001b[0ma\u001b[0m \u001b[0;34m=\u001b[0m \u001b[0;34m[\u001b[0m\u001b[0;34m'10'\u001b[0m\u001b[0;34m,\u001b[0m\u001b[0;34m'20'\u001b[0m\u001b[0;34m,\u001b[0m\u001b[0;34m'30'\u001b[0m\u001b[0;34m]\u001b[0m\u001b[0;34m\u001b[0m\u001b[0;34m\u001b[0m\u001b[0m\n\u001b[0;32m----> 2\u001b[0;31m \u001b[0mprint\u001b[0m\u001b[0;34m(\u001b[0m\u001b[0msum\u001b[0m\u001b[0;34m(\u001b[0m\u001b[0ma\u001b[0m\u001b[0;34m)\u001b[0m\u001b[0;34m)\u001b[0m\u001b[0;34m\u001b[0m\u001b[0;34m\u001b[0m\u001b[0m\n\u001b[0m",
            "\u001b[0;31mTypeError\u001b[0m: unsupported operand type(s) for +: 'int' and 'str'"
          ]
        }
      ]
    },
    {
      "cell_type": "code",
      "source": [
        "a = ['10','20','30']\n",
        "\n",
        "a = map(int,a) # 리스트 a에 들어있는 모든 값을 정수로 바꿈\n",
        "print(sum(a))"
      ],
      "metadata": {
        "colab": {
          "base_uri": "https://localhost:8080/"
        },
        "id": "kXe9k0uM8TWJ",
        "outputId": "3223ab49-110c-42fc-b9f5-ef2142f3e4e2"
      },
      "execution_count": 16,
      "outputs": [
        {
          "output_type": "stream",
          "name": "stdout",
          "text": [
            "60\n"
          ]
        }
      ]
    },
    {
      "cell_type": "code",
      "source": [
        "a = ['10','20','30']\n",
        "a = list(map(int,a))\n",
        "print(a)\n",
        "print(sum(a))"
      ],
      "metadata": {
        "colab": {
          "base_uri": "https://localhost:8080/"
        },
        "id": "REM143kc8gXK",
        "outputId": "ee348c3c-16f1-4ac6-da49-ebd781ea4bc0"
      },
      "execution_count": 17,
      "outputs": [
        {
          "output_type": "stream",
          "name": "stdout",
          "text": [
            "[10, 20, 30]\n",
            "60\n"
          ]
        }
      ]
    },
    {
      "cell_type": "code",
      "source": [
        "# 2차원 리스트\n",
        "score = [[29,28,27,30],[30,20,27,29],[23,25,29,30]]\n",
        "\n",
        "print(score[0])\n",
        "print(score[1][2])"
      ],
      "metadata": {
        "colab": {
          "base_uri": "https://localhost:8080/"
        },
        "id": "OEHF7oKn-Py7",
        "outputId": "a89c84f5-ec55-435d-c57a-a0d01f181fd7"
      },
      "execution_count": 18,
      "outputs": [
        {
          "output_type": "stream",
          "name": "stdout",
          "text": [
            "[29, 28, 27, 30]\n",
            "27\n"
          ]
        }
      ]
    },
    {
      "cell_type": "code",
      "source": [
        "score = [[29,28,27,30],[30,20,27,29],[23,25,29,30]]\n",
        "for sc in score:\n",
        "  print(sc)"
      ],
      "metadata": {
        "colab": {
          "base_uri": "https://localhost:8080/"
        },
        "id": "C4q5N7jt-deL",
        "outputId": "b266edc9-7151-4598-830e-67a7f0c7ac5f"
      },
      "execution_count": 19,
      "outputs": [
        {
          "output_type": "stream",
          "name": "stdout",
          "text": [
            "[29, 28, 27, 30]\n",
            "[30, 20, 27, 29]\n",
            "[23, 25, 29, 30]\n"
          ]
        }
      ]
    },
    {
      "cell_type": "code",
      "source": [
        "score = [[29,28,27,30],[30,20,27,29],[23,25,29,30]]\n",
        "for r in range(3):\n",
        "  for c in range(4):\n",
        "    print(score[r][c],end=\" \")\n",
        "  print()"
      ],
      "metadata": {
        "colab": {
          "base_uri": "https://localhost:8080/"
        },
        "id": "gu3fBWxK-yUH",
        "outputId": "907dc88c-e51a-40d5-beb3-76961abb9e7e"
      },
      "execution_count": 25,
      "outputs": [
        {
          "output_type": "stream",
          "name": "stdout",
          "text": [
            "29 28 27 30 \n",
            "30 20 27 29 \n",
            "23 25 29 30 \n"
          ]
        }
      ]
    },
    {
      "cell_type": "code",
      "source": [
        "# 튜플\n",
        "days_of_week = (\"Monday\",\"Tuesday\",\"Wednesday\",\"Thursday\",\"Friday\",\"Saturday\",\"Sunday\")\n",
        "print(days_of_week)\n",
        "print(days_of_week[0])\n",
        "# days_of_week[0]='월요일'# 에러: 튜플은 데이터를 변경할 수 없음"
      ],
      "metadata": {
        "colab": {
          "base_uri": "https://localhost:8080/"
        },
        "id": "Af4lbpZmC_d8",
        "outputId": "e4cee630-cc40-4e20-895d-989a3e6526f3"
      },
      "execution_count": 27,
      "outputs": [
        {
          "output_type": "stream",
          "name": "stdout",
          "text": [
            "('Monday', 'Tuesday', 'Wednesday', 'Thursday', 'Friday', 'Saturday', 'Sunday')\n",
            "Monday\n"
          ]
        }
      ]
    }
  ]
}