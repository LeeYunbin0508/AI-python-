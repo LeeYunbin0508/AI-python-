{
  "nbformat": 4,
  "nbformat_minor": 0,
  "metadata": {
    "colab": {
      "provenance": [],
      "authorship_tag": "ABX9TyOugBaWQh1MB/KnWMkiuzeN",
      "include_colab_link": true
    },
    "kernelspec": {
      "name": "python3",
      "display_name": "Python 3"
    },
    "language_info": {
      "name": "python"
    }
  },
  "cells": [
    {
      "cell_type": "markdown",
      "metadata": {
        "id": "view-in-github",
        "colab_type": "text"
      },
      "source": [
        "<a href=\"https://colab.research.google.com/github/LeeYunbin0508/AI-python-/blob/main/%EB%A6%AC%EC%8A%A4%ED%8A%B8_%EC%8B%A4%EC%8A%B5.ipynb\" target=\"_parent\"><img src=\"https://colab.research.google.com/assets/colab-badge.svg\" alt=\"Open In Colab\"/></a>"
      ]
    },
    {
      "cell_type": "code",
      "execution_count": 5,
      "metadata": {
        "colab": {
          "base_uri": "https://localhost:8080/"
        },
        "id": "jZmSOwaPJzFw",
        "outputId": "d31ea0c0-af7c-4660-bd60-64e79a56957f"
      },
      "outputs": [
        {
          "output_type": "stream",
          "name": "stdout",
          "text": [
            "Enter the hours worked by employee 1:10\n",
            "Enter the hours worked by employee 2:20\n",
            "Enter the hours worked by employee 3:15\n",
            "Enter the hours worked by employee 4:40\n",
            "Enter the hours worked by employee 5:20\n",
            "Enter the hours worked by employee 6:18\n",
            "Enter the hourly pay rate: 12.75\n",
            "Gross pay for employee 1: $127.50\n",
            "Gross pay for employee 2: $255.00\n",
            "Gross pay for employee 3: $191.25\n",
            "Gross pay for employee 4: $510.00\n",
            "Gross pay for employee 5: $255.00\n",
            "Gross pay for employee 6: $229.50\n"
          ]
        }
      ],
      "source": [
        "# 값을 연속적으로 입력받아 리스트에 저장한 후 계산 및 출력하는 프로그램\n",
        "\n",
        "num_employees = 6\n",
        "hours = [0] * num_employees\n",
        "\n",
        "def main():\n",
        "  for index in range(num_employees):\n",
        "    print('Enter the hours worked by employee ',index + 1, ':', sep='', end='')\n",
        "    hours[index] = float(input())\n",
        "\n",
        "  pay_rate = float(input('Enter the hourly pay rate: '))\n",
        "\n",
        "  for index in range(num_employees):\n",
        "    gross_pay = hours[index] * pay_rate\n",
        "    print('Gross pay for employee ',index+1,': $',format(gross_pay,'.2f'),sep='')\n",
        "main()"
      ]
    },
    {
      "cell_type": "code",
      "source": [
        "# 리스트와 반복문을 이용하여 리스트의 값에 대한 합을 구하는 프로그램\n",
        "def main():\n",
        "  numbers = [2,4,6,8,10]\n",
        "  total = 0\n",
        "  for value in numbers:\n",
        "    total += value\n",
        "  print('Total is',total)\n",
        "main()"
      ],
      "metadata": {
        "colab": {
          "base_uri": "https://localhost:8080/"
        },
        "id": "rmu4LwQwR3xG",
        "outputId": "26696141-c5fc-4712-c622-d8f6d470e195"
      },
      "execution_count": 6,
      "outputs": [
        {
          "output_type": "stream",
          "name": "stdout",
          "text": [
            "Total is 30\n"
          ]
        }
      ]
    },
    {
      "cell_type": "code",
      "source": [
        "# 리스트와 반복문을 이용하여 리스트의 값에 대한 평균을 구하는 프로그램\n",
        "def main():\n",
        "  scores = [2.5, 8.3, 6.5, 4.0, 5.2]\n",
        "  total = 0.0\n",
        "  for value in scores:\n",
        "    total += value\n",
        "  average = total / len(scores)\n",
        "  print('The average of the elements is', average)\n",
        "main()"
      ],
      "metadata": {
        "colab": {
          "base_uri": "https://localhost:8080/"
        },
        "id": "XDxpO_xaTPty",
        "outputId": "2e225d62-c26d-4fdd-bcb3-1d3804276f10"
      },
      "execution_count": 9,
      "outputs": [
        {
          "output_type": "stream",
          "name": "stdout",
          "text": [
            "The average of the elements is 5.3\n"
          ]
        }
      ]
    },
    {
      "cell_type": "code",
      "source": [
        "# Program 8-10\n",
        "# 리스트를 함수의 인자로 활용하는 프로그램\n",
        "def main():\n",
        "  numbers = [2, 4, 6, 8, 10]\n",
        "  print('The total is', get_total(numbers))\n",
        "\n",
        "def get_total(a):\n",
        "  total = 0\n",
        "  for num in a:\n",
        "    total += num\n",
        "  return total\n",
        "\n",
        "main()\n"
      ],
      "metadata": {
        "colab": {
          "base_uri": "https://localhost:8080/"
        },
        "id": "1grnltNTUZca",
        "outputId": "f0bd1e90-82eb-42ee-a8e1-62dba1eeeca9"
      },
      "execution_count": 11,
      "outputs": [
        {
          "output_type": "stream",
          "name": "stdout",
          "text": [
            "The total is 30\n"
          ]
        }
      ]
    },
    {
      "cell_type": "code",
      "source": [
        "# Program 8-11\n",
        "# 리스트를 반환하는 함수를 정의하고 호출하는 프로그램\n",
        "def main():\n",
        "  numbers = get_values()\n",
        "  print('list의 숫자는 다음과 같습니다:',numbers)\n",
        "def get_values():\n",
        "  values = []\n",
        "  again = 'y'\n",
        "  while again == 'y':\n",
        "    num = int(input('Enter a number: '))\n",
        "    values.append(num)\n",
        "    again = input('Do you want to add another number? (y/n):')\n",
        "    print()\n",
        "  return values\n",
        "\n",
        "main()"
      ],
      "metadata": {
        "colab": {
          "base_uri": "https://localhost:8080/"
        },
        "id": "JTYVlIZmYn-4",
        "outputId": "ad0381a0-b0f3-4198-e3ab-3d1fd42a11b3"
      },
      "execution_count": 14,
      "outputs": [
        {
          "output_type": "stream",
          "name": "stdout",
          "text": [
            "Enter a number: 60\n",
            "Do you want to add another number? (y/n):y\n",
            "\n",
            "Enter a number: 24\n",
            "Do you want to add another number? (y/n):n\n",
            "\n",
            "list의 숫자는 다음과 같습니다: [60, 24]\n"
          ]
        }
      ]
    },
    {
      "cell_type": "code",
      "source": [
        "# Program 8-12\n",
        "def main():\n",
        "  scores = get_scores()\n",
        "  total = get_total(scores)\n",
        "  lowest = min(scores)\n",
        "  total -= lowest\n",
        "  average = total / (len(scores) - 1)\n",
        "  print('The average, with the lowest score dropped is:',average)\n",
        "\n",
        "def get_scores():\n",
        "  test_scores = []\n",
        "  again = 'y'\n",
        "  while again == 'y':\n",
        "    value = float(input('Enter a test score: '))\n",
        "    test_scores.append(value)\n",
        "    print('Do you want to add another score?')\n",
        "    again = input('y = yes, anything else = no: ')\n",
        "    print()\n",
        "\n",
        "  return test_scores\n",
        "\n",
        "def get_total(value_list):\n",
        "  total = 0.0\n",
        "  for num in value_list:\n",
        "    total += num\n",
        "  return total\n",
        "\n",
        "main()"
      ],
      "metadata": {
        "colab": {
          "base_uri": "https://localhost:8080/"
        },
        "id": "96GAjAKOhZGp",
        "outputId": "9c5382a4-d310-4177-f6ba-d9f3a48b6a59"
      },
      "execution_count": 17,
      "outputs": [
        {
          "output_type": "stream",
          "name": "stdout",
          "text": [
            "Enter a test score: 92\n",
            "Do you want to add another score?\n",
            "y = yes, anything else = no: y\n",
            "\n",
            "Enter a test score: 67\n",
            "Do you want to add another score?\n",
            "y = yes, anything else = no: y\n",
            "\n",
            "Enter a test score: 75\n",
            "Do you want to add another score?\n",
            "y = yes, anything else = no: y\n",
            "\n",
            "Enter a test score: 88\n",
            "Do you want to add another score?\n",
            "y = yes, anything else = no: n\n",
            "\n",
            "The average, without the lowest score dropped is: 85.0\n"
          ]
        }
      ]
    },
    {
      "cell_type": "code",
      "source": [
        "# Program 8-13 문자열들이 할당된 리스트를 파일로 기록하는 프로그램\n",
        "def main():\n",
        "  cities = ['New York', 'Boston', 'Atlanta', 'Dallas']\n",
        "  outfile = open('cities.txt', 'w')\n",
        "  outfile.writelines(cities)\n",
        "  outfile.close()\n",
        "main()"
      ],
      "metadata": {
        "id": "VuQnepeBt15T"
      },
      "execution_count": 19,
      "outputs": []
    },
    {
      "cell_type": "code",
      "source": [
        "# Program 8-14 문자열들이 할당된 리스트를 파일로 기록하는 프로그램\n",
        "def main():\n",
        "\n",
        "  cities = ['New York', 'Boston', 'Atlanta', 'Dallas']\n",
        "  outfile = open('cities2.txt', 'w')\n",
        "  for item in cities:\n",
        "    outfile.writelines(item + '\\n')\n",
        "  outfile.close()\n",
        "\n",
        "main()"
      ],
      "metadata": {
        "id": "eO-PsnxPxxE0"
      },
      "execution_count": 22,
      "outputs": []
    },
    {
      "cell_type": "code",
      "source": [
        "# Program 8-15 파일의 내용을 리스트로 읽어들이는 프로그램\n",
        "def main():\n",
        "  infile = open('cities2.txt', 'r')\n",
        "  cities = infile.readlines()\n",
        "  infile.close()\n",
        "\n",
        "  index = 0\n",
        "  while index < len(cities):\n",
        "    cities[index] = cities[index].rstrip('\\n')\n",
        "    index += 1\n",
        "\n",
        "  print(cities)\n",
        "main()\n"
      ],
      "metadata": {
        "colab": {
          "base_uri": "https://localhost:8080/"
        },
        "id": "0WRXA_sQ0jP0",
        "outputId": "6b966522-fd77-4582-f1a6-ab554cb1ed05"
      },
      "execution_count": 28,
      "outputs": [
        {
          "output_type": "stream",
          "name": "stdout",
          "text": [
            "['New York', 'Boston', 'Atlanta', 'Dallas']\n"
          ]
        }
      ]
    },
    {
      "cell_type": "code",
      "source": [
        "# Program 8-16 숫자가 할당된 리스트를 파일로 기록하는 프로그램\n",
        "def main():\n",
        "  numbers = [1, 2, 3, 4, 5, 6, 7]\n",
        "  outfile = open('numberlist.txt', 'w')\n",
        "  for item in numbers:\n",
        "    outfile.write(str(item) + '\\n')\n",
        "  outfile.close()\n",
        "\n",
        "main()\n"
      ],
      "metadata": {
        "id": "ZEWikjw44GX6"
      },
      "execution_count": 29,
      "outputs": []
    },
    {
      "cell_type": "code",
      "source": [
        "# Program 8-17 파일의 내용을 리스트로 읽어들이는 프로그램\n",
        "def main():\n",
        "  infile = open('numberlist.txt', 'r')\n",
        "  numbers = infile.readlines()\n",
        "  infile.close()\n",
        "\n",
        "  index = 0\n",
        "  while index < len(numbers):\n",
        "    numbers[index] = int(numbers[index])\n",
        "    index += 1\n",
        "\n",
        "  print(numbers)\n",
        "main()\n"
      ],
      "metadata": {
        "colab": {
          "base_uri": "https://localhost:8080/"
        },
        "id": "RX13dNp262-B",
        "outputId": "d4a4080e-2fd4-4f3a-e12a-d1de6874b587"
      },
      "execution_count": 35,
      "outputs": [
        {
          "output_type": "stream",
          "name": "stdout",
          "text": [
            "[1, 2, 3, 4, 5, 6, 7]\n"
          ]
        }
      ]
    },
    {
      "cell_type": "code",
      "source": [
        "# Program 8-18 2차원 리스트를 생성하고 데이터를 할당하는 프로그램\n",
        "import random\n",
        "ROWS = 3\n",
        "COLS = 4\n",
        "def main():\n",
        "  values = [[0, 0, 0, 0], [0, 0, 0, 0], [0, 0, 0, 0]]\n",
        "  for r in range(ROWS):\n",
        "    for c in range(COLS):\n",
        "      values[r][c] = random.randint(1, 100)\n",
        "  print(values)\n",
        "\n",
        "main()"
      ],
      "metadata": {
        "colab": {
          "base_uri": "https://localhost:8080/"
        },
        "id": "Arx93Lb5AZCu",
        "outputId": "30fed977-c03d-42c5-b29c-29e72aef503a"
      },
      "execution_count": 42,
      "outputs": [
        {
          "output_type": "stream",
          "name": "stdout",
          "text": [
            "[[91, 46, 49, 95], [2, 80, 74, 16], [5, 29, 48, 48]]\n"
          ]
        }
      ]
    }
  ]
}