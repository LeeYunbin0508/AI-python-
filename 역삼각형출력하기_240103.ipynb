{
  "nbformat": 4,
  "nbformat_minor": 0,
  "metadata": {
    "colab": {
      "provenance": [],
      "authorship_tag": "ABX9TyPWzxayK03ahQjxytmuMtHt",
      "include_colab_link": true
    },
    "kernelspec": {
      "name": "python3",
      "display_name": "Python 3"
    },
    "language_info": {
      "name": "python"
    }
  },
  "cells": [
    {
      "cell_type": "markdown",
      "metadata": {
        "id": "view-in-github",
        "colab_type": "text"
      },
      "source": [
        "<a href=\"https://colab.research.google.com/github/LeeYunbin0508/AI-python-/blob/main/%EC%97%AD%EC%82%BC%EA%B0%81%ED%98%95%EC%B6%9C%EB%A0%A5%ED%95%98%EA%B8%B0_240103.ipynb\" target=\"_parent\"><img src=\"https://colab.research.google.com/assets/colab-badge.svg\" alt=\"Open In Colab\"/></a>"
      ]
    },
    {
      "cell_type": "code",
      "execution_count": 8,
      "metadata": {
        "colab": {
          "base_uri": "https://localhost:8080/"
        },
        "id": "ATJOSHTdWaeN",
        "outputId": "f17a3628-b6e8-4ea5-eb59-a7c3d6553ff6"
      },
      "outputs": [
        {
          "output_type": "stream",
          "name": "stdout",
          "text": [
            "********\n",
            "*******\n",
            "******\n",
            "*****\n",
            "****\n",
            "***\n",
            "**\n",
            "*\n"
          ]
        }
      ],
      "source": [
        "# 역 삼각형 출력하기\n",
        "\n",
        "BASE_SIZE = 8\n",
        "\n",
        "for r in range(BASE_SIZE,0,-1):\n",
        "  for c in range(r):\n",
        "    print(\"*\",end=\"\")\n",
        "  print()"
      ]
    }
  ]
}