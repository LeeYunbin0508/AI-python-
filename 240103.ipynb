{
  "nbformat": 4,
  "nbformat_minor": 0,
  "metadata": {
    "colab": {
      "provenance": [],
      "authorship_tag": "ABX9TyPp0zRw4xzNS2Jsv8t33eNe",
      "include_colab_link": true
    },
    "kernelspec": {
      "name": "python3",
      "display_name": "Python 3"
    },
    "language_info": {
      "name": "python"
    }
  },
  "cells": [
    {
      "cell_type": "markdown",
      "metadata": {
        "id": "view-in-github",
        "colab_type": "text"
      },
      "source": [
        "<a href=\"https://colab.research.google.com/github/LeeYunbin0508/AI-python-/blob/main/240103.ipynb\" target=\"_parent\"><img src=\"https://colab.research.google.com/assets/colab-badge.svg\" alt=\"Open In Colab\"/></a>"
      ]
    },
    {
      "cell_type": "code",
      "source": [
        "''' 오늘 배운 내용\n",
        "1. if 조건문\n",
        "2. for 반복문\n",
        "3. 함수 '''"
      ],
      "metadata": {
        "id": "Vhiz_L3_PbAR"
      },
      "execution_count": null,
      "outputs": []
    },
    {
      "cell_type": "code",
      "source": [
        "# if 조건식:\n",
        "    #조건식이 참일 때 실행할 코드"
      ],
      "metadata": {
        "id": "l6VIulsy7KIR"
      },
      "execution_count": null,
      "outputs": []
    },
    {
      "cell_type": "code",
      "execution_count": 1,
      "metadata": {
        "colab": {
          "base_uri": "https://localhost:8080/"
        },
        "id": "3tA2_H2F6mrU",
        "outputId": "42f49424-cdf0-4203-86bc-e94a18105fd8"
      },
      "outputs": [
        {
          "output_type": "stream",
          "name": "stdout",
          "text": [
            "a는 5보다 큽니다.\n"
          ]
        }
      ],
      "source": [
        "a = 10\n",
        "if a>5:\n",
        "  print(\"a는 5보다 큽니다.\")"
      ]
    },
    {
      "cell_type": "code",
      "source": [
        "a = 5\n",
        "if a>5:\n",
        "  print(\"a는 5보다 큽니다.\")\n",
        "print(\"end\")"
      ],
      "metadata": {
        "colab": {
          "base_uri": "https://localhost:8080/"
        },
        "id": "j0ueWpDZ6xpR",
        "outputId": "7e4127b4-3864-4c89-d4d9-a926992b7b43"
      },
      "execution_count": 2,
      "outputs": [
        {
          "output_type": "stream",
          "name": "stdout",
          "text": [
            "end\n"
          ]
        }
      ]
    },
    {
      "cell_type": "code",
      "source": [
        "a = 5\n",
        "if a>5:\n",
        "  print(\"a는 5보다 큽니다.\")\n",
        "  print(\"end\")"
      ],
      "metadata": {
        "id": "jx0lFTlo7JfD"
      },
      "execution_count": 3,
      "outputs": []
    },
    {
      "cell_type": "code",
      "source": [
        "# 조건식이 여러개일 때 -> if, elif 사용\n",
        "gender='M'\n",
        "\n",
        "if gender=='M':\n",
        "  print(\"남자입니다.\")\n",
        "else:\n",
        "  print(\"여자입니다.\")"
      ],
      "metadata": {
        "colab": {
          "base_uri": "https://localhost:8080/"
        },
        "id": "u5xp_D3H7xIq",
        "outputId": "3553a34c-08bb-4898-c1ea-4e0fd9c9f756"
      },
      "execution_count": 10,
      "outputs": [
        {
          "output_type": "stream",
          "name": "stdout",
          "text": [
            "남자입니다.\n"
          ]
        }
      ]
    },
    {
      "cell_type": "code",
      "source": [
        "gender=input(\"성별이 남자이면 M, 여자이면 W를 입력해주세요: \")\n",
        "\n",
        "if gender=='M':\n",
        "  print(\"남자입니다.\")\n",
        "elif gender=='W':\n",
        "  print(\"여자입니다.\")\n",
        "else:\n",
        "  print(\"성별을 알 수 없습니다.\")"
      ],
      "metadata": {
        "colab": {
          "base_uri": "https://localhost:8080/"
        },
        "id": "F4ptQc8O9e-c",
        "outputId": "966ae274-421d-4615-99f3-6bad15308c37"
      },
      "execution_count": 11,
      "outputs": [
        {
          "output_type": "stream",
          "name": "stdout",
          "text": [
            "성별이 남자이면 M, 여자이면 W를 입력해주세요: W\n",
            "여자입니다.\n"
          ]
        }
      ]
    },
    {
      "cell_type": "code",
      "source": [
        "score=int(input(\"점수를 입력하세요: \"))\n",
        "\n",
        "if score > 90:\n",
        "  print(\"A\")\n",
        "elif score > 80:\n",
        "  print(\"B\")\n",
        "elif score > 70:\n",
        "  print(\"C\")\n",
        "elif score > 60:\n",
        "  print(\"D\")"
      ],
      "metadata": {
        "colab": {
          "base_uri": "https://localhost:8080/"
        },
        "id": "mE9wgXld91U2",
        "outputId": "591131ba-4e04-4fed-920f-ed3f3f96c88f"
      },
      "execution_count": 19,
      "outputs": [
        {
          "output_type": "stream",
          "name": "stdout",
          "text": [
            "점수를 입력하세요: 90\n",
            "B\n"
          ]
        }
      ]
    },
    {
      "cell_type": "code",
      "source": [
        "# 시험 점수를 입력받아 90 ~ 100점은 A, 80 ~ 89점은 B, 70 ~ 79점은 C, 60 ~ 69점은 D, 나머지 점수는 F를 출력하는 프로그램을 작성하시오.\n",
        "\n",
        "score = int(input(\"점수를 입력하세요: \"))\n",
        "if score >= 90:\n",
        "  print(\"A\")\n",
        "elif score >= 80:\n",
        "  print(\"B\")\n",
        "elif score >= 70:\n",
        "  print(\"C\")\n",
        "elif score >= 60:\n",
        "  print(\"D\")\n",
        "else:\n",
        "  print(\"F\")"
      ],
      "metadata": {
        "colab": {
          "base_uri": "https://localhost:8080/"
        },
        "id": "jRgJrRiG_qG_",
        "outputId": "e954ea63-3eb2-4bce-fef8-1c4aabf12a05"
      },
      "execution_count": 20,
      "outputs": [
        {
          "output_type": "stream",
          "name": "stdout",
          "text": [
            "점수를 입력하세요: 50\n",
            "F\n"
          ]
        }
      ]
    },
    {
      "cell_type": "code",
      "source": [
        "# 중첩 조건문\n",
        "a = 10\n",
        "b = 5\n",
        "\n",
        "if a > 5:\n",
        "  if b < 10:\n",
        "    print(\"a는 5보다 크고 b는 10보다 작습니다.\")"
      ],
      "metadata": {
        "colab": {
          "base_uri": "https://localhost:8080/"
        },
        "id": "JzJFxGRiBsMY",
        "outputId": "4cdda7c5-6380-4fab-fb64-5611e3e1b9c6"
      },
      "execution_count": 21,
      "outputs": [
        {
          "output_type": "stream",
          "name": "stdout",
          "text": [
            "a는 5보다 크고 b는 10보다 작습니다.\n"
          ]
        }
      ]
    },
    {
      "cell_type": "code",
      "source": [
        "a = 10\n",
        "b = 5\n",
        "\n",
        "if a > 5 and b < 10:\n",
        "  print(\"a는 5보다 크고 b는 10보다 작습니다.\")"
      ],
      "metadata": {
        "colab": {
          "base_uri": "https://localhost:8080/"
        },
        "id": "UUC6DwJZB7J7",
        "outputId": "fecef0ca-c9cf-4401-b109-5f884307eb18"
      },
      "execution_count": 22,
      "outputs": [
        {
          "output_type": "stream",
          "name": "stdout",
          "text": [
            "a는 5보다 크고 b는 10보다 작습니다.\n"
          ]
        }
      ]
    },
    {
      "cell_type": "code",
      "source": [
        "# 반복문 for\n",
        "# 시퀀스 데이터: 나열된 데이터 예) 문자열, 리스트\n",
        "a = [1,2,3,4,5]\n",
        "\n",
        "for i in a:\n",
        "  print(i,end=\"\") # end 옵션을 사용하여 가로로 출력"
      ],
      "metadata": {
        "colab": {
          "base_uri": "https://localhost:8080/"
        },
        "id": "2mr99jiRCnyw",
        "outputId": "2b8e9642-cd64-4d0c-d0ad-0566c70d8d2d"
      },
      "execution_count": 28,
      "outputs": [
        {
          "output_type": "stream",
          "name": "stdout",
          "text": [
            "12345"
          ]
        }
      ]
    },
    {
      "cell_type": "code",
      "source": [
        "''' range() 함수 사용\n",
        "for i in range(start, stop, step):\n",
        "    print(i) '''\n",
        "\n",
        "for i in range(1,10,2): # 1부터 9까지 2씩 증가한 값을 출력\n",
        "  print(i, end=\"\")"
      ],
      "metadata": {
        "colab": {
          "base_uri": "https://localhost:8080/"
        },
        "id": "PFgh3qRVEAO8",
        "outputId": "9da6be39-50da-485c-b053-276adfe6fd62"
      },
      "execution_count": 33,
      "outputs": [
        {
          "output_type": "stream",
          "name": "stdout",
          "text": [
            "13579"
          ]
        }
      ]
    },
    {
      "cell_type": "code",
      "source": [
        "for i in range(10): # 0부터 9까지 1씩 증가한 값을 출력\n",
        "  print(i, end=\"\")"
      ],
      "metadata": {
        "colab": {
          "base_uri": "https://localhost:8080/"
        },
        "id": "qAxNyvWiEoHZ",
        "outputId": "55e99128-335d-4d16-f8d7-b8dc9943992b"
      },
      "execution_count": 35,
      "outputs": [
        {
          "output_type": "stream",
          "name": "stdout",
          "text": [
            "0123456789"
          ]
        }
      ]
    },
    {
      "cell_type": "code",
      "source": [
        "# 반복 범위가 문자인 경우\n",
        "for x in '월화수':\n",
        "  print(x)"
      ],
      "metadata": {
        "colab": {
          "base_uri": "https://localhost:8080/"
        },
        "id": "PsXSDeGeEur4",
        "outputId": "2c9f1b94-b450-4c37-eaf8-b004a8fe1a81"
      },
      "execution_count": 36,
      "outputs": [
        {
          "output_type": "stream",
          "name": "stdout",
          "text": [
            "월\n",
            "화\n",
            "수\n"
          ]
        }
      ]
    },
    {
      "cell_type": "code",
      "source": [
        "n = int(input(\"정수를 입력하세요: \"))\n",
        "if 1 <= n <=10000:\n",
        "  total_sum= 0\n",
        "  for i in range(1,n+1):\n",
        "    total_sum += i\n",
        "  print(total_sum)\n",
        "else:\n",
        "  print(\"정수는 1이상 10000이하여야 합니다.\")"
      ],
      "metadata": {
        "colab": {
          "base_uri": "https://localhost:8080/"
        },
        "id": "1LcStUFYFy37",
        "outputId": "801d0fcb-773b-4c5f-f52d-dcda1e2ed269"
      },
      "execution_count": 41,
      "outputs": [
        {
          "output_type": "stream",
          "name": "stdout",
          "text": [
            "정수를 입력하세요: 100001\n",
            "정수는 1이상 10000이하여야 합니다.\n"
          ]
        }
      ]
    },
    {
      "cell_type": "code",
      "source": [
        "A == 20, B == 30, C == 10\n",
        "\n",
        "if A >= B and A >=C:\n",
        "  if B >= C:\n",
        "    print(B)\n",
        "  else:\n",
        "    print(C)\n",
        "\n",
        "if B >= A and B >=C:\n",
        "  if A >=C:\n",
        "    print(A)\n",
        "  else:\n",
        "    print(C)\n",
        "\n",
        "if C >= A and C >= B:\n",
        "  if A >=B:\n",
        "    print(A)\n",
        "  else:\n",
        "    print(B)"
      ],
      "metadata": {
        "colab": {
          "base_uri": "https://localhost:8080/"
        },
        "id": "9HJaKlcwKCqH",
        "outputId": "85c5d784-9659-4fb6-a62b-35eb398ab825"
      },
      "execution_count": 54,
      "outputs": [
        {
          "output_type": "stream",
          "name": "stdout",
          "text": [
            "20\n"
          ]
        }
      ]
    },
    {
      "cell_type": "code",
      "source": [
        "# 함수\n",
        "# 매개변수 = 인자 = 파라미터 = 아규먼트\n",
        "''' 함수의 정의\n",
        "def 함수명([매개변수1, 매개변수2 ...]):\n",
        "  실행문1\n",
        "  실행문2\n",
        "  ...\n",
        "  [return 반환값1, 반환값2 ...]"
      ],
      "metadata": {
        "id": "D3u7JvBRNuiN"
      },
      "execution_count": null,
      "outputs": []
    },
    {
      "cell_type": "code",
      "source": [
        "# 사용자 정의 함수\n",
        "\n",
        "# add 함수 정의 -> 매개변수 x,y / 반환값 s,a 변수명은 언제나 바뀔 수 있다\n",
        "def add(x,y):\n",
        "  s = x + y\n",
        "  a = s / 2\n",
        "  return s, a\n",
        "\n",
        "# add 함수 호출 -> 반환값 h,a\n",
        "h,a = add(10,20)\n",
        "print(\"합:\",h, \"평균:\",a)"
      ],
      "metadata": {
        "colab": {
          "base_uri": "https://localhost:8080/"
        },
        "id": "lLyA_JN4OeS1",
        "outputId": "54a6cc43-d1ed-451b-e480-b2a8bc9bc858"
      },
      "execution_count": 58,
      "outputs": [
        {
          "output_type": "stream",
          "name": "stdout",
          "text": [
            "합: 30 평균: 15.0\n"
          ]
        }
      ]
    },
    {
      "cell_type": "code",
      "source": [
        "# mission 코드 고치기\n",
        "\n",
        "a = 1\n",
        "while (a<=3):\n",
        "  print('안녕',a)\n",
        "  # a += 1"
      ],
      "metadata": {
        "colab": {
          "base_uri": "https://localhost:8080/"
        },
        "id": "uFPpQGO6PRff",
        "outputId": "73db9f92-60f4-4331-f5a3-1b02f40ade37"
      },
      "execution_count": 63,
      "outputs": [
        {
          "output_type": "stream",
          "name": "stdout",
          "text": [
            "안녕 1\n",
            "안녕 2\n",
            "안녕 3\n"
          ]
        }
      ]
    },
    {
      "cell_type": "code",
      "source": [
        "# Program 4-1\n",
        "\n",
        "HIGH_SCORE = 95\n",
        "\n",
        "def main():\n",
        "  test1 = int(input('Enter the score for 1: '))\n",
        "  test2 = int(input('Enter the score for 2: '))\n",
        "  test3 = int(input('Enter the score for 3: '))\n",
        "\n",
        "  average = (test1 + test2 + test3) / 3\n",
        "\n",
        "  print('The average score is', average)\n",
        "\n",
        "  # 평균값이 HIGH_SCORE 보다 클 경우에 메시지 출력\n",
        "  if average >= HIGH_SCORE:\n",
        "    print('Congratulations!')\n",
        "    print('That is a great average!')\n",
        "\n",
        "main()"
      ],
      "metadata": {
        "colab": {
          "base_uri": "https://localhost:8080/"
        },
        "id": "LzB8RvdtQ-Ym",
        "outputId": "3126fbd9-57e9-4380-8ff1-eec5a086118a"
      },
      "execution_count": 64,
      "outputs": [
        {
          "output_type": "stream",
          "name": "stdout",
          "text": [
            "Enter the score for 1: 93\n",
            "Enter the score for 2: 99\n",
            "Enter the score for 3: 96\n",
            "The average score is 96.0\n",
            "Congratulations!\n",
            "That is a great average!\n"
          ]
        }
      ]
    }
  ]
}