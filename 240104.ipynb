{
  "nbformat": 4,
  "nbformat_minor": 0,
  "metadata": {
    "colab": {
      "provenance": [],
      "authorship_tag": "ABX9TyOjBQNONfljZIl4UuZvW2G+",
      "include_colab_link": true
    },
    "kernelspec": {
      "name": "python3",
      "display_name": "Python 3"
    },
    "language_info": {
      "name": "python"
    }
  },
  "cells": [
    {
      "cell_type": "markdown",
      "metadata": {
        "id": "view-in-github",
        "colab_type": "text"
      },
      "source": [
        "<a href=\"https://colab.research.google.com/github/LeeYunbin0508/AI-python-/blob/main/240104.ipynb\" target=\"_parent\"><img src=\"https://colab.research.google.com/assets/colab-badge.svg\" alt=\"Open In Colab\"/></a>"
      ]
    },
    {
      "cell_type": "code",
      "execution_count": 1,
      "metadata": {
        "colab": {
          "base_uri": "https://localhost:8080/"
        },
        "id": "44irMWsJHQHz",
        "outputId": "ddd159f2-bdc8-41b2-c328-cb17c2743125"
      },
      "outputs": [
        {
          "output_type": "stream",
          "name": "stdout",
          "text": [
            "********\n",
            "*******\n",
            "******\n",
            "*****\n",
            "****\n",
            "***\n",
            "**\n",
            "*\n"
          ]
        }
      ],
      "source": [
        "# 역 삼각형 출력하기\n",
        "\n",
        "BASE_SIZE = 8\n",
        "\n",
        "for r in range(BASE_SIZE,0,-1): # 8부터 0까지 -1씩 감소한다.\n",
        "  for c in range(r):\n",
        "    print(\"*\",end=\"\")\n",
        "  print()"
      ]
    },
    {
      "cell_type": "code",
      "source": [
        "# 다른 방법\n",
        "\n",
        "BASE_SIZE = 8\n",
        "for r in range(BASE_SIZE): # 행\n",
        "  for c in range(BASE_SIZE-r): # 열 (행이 1 증가할수록 열은 1 감소한다)\n",
        "    print('*',end='')\n",
        "  print()"
      ],
      "metadata": {
        "colab": {
          "base_uri": "https://localhost:8080/"
        },
        "id": "5lYkoBXxHT_2",
        "outputId": "b28c121f-c5cd-41c8-9345-5825d545896d"
      },
      "execution_count": 5,
      "outputs": [
        {
          "output_type": "stream",
          "name": "stdout",
          "text": [
            "********\n",
            "*******\n",
            "******\n",
            "*****\n",
            "****\n",
            "***\n",
            "**\n",
            "*\n"
          ]
        }
      ]
    },
    {
      "cell_type": "code",
      "source": [
        "# 중첩 반복문\n",
        "i = 1\n",
        "\n",
        "for i in range(i,5,1):\n",
        "  print(i, \"Welcome\")\n",
        "  a = 1\n",
        "  for a in range(a,4,1):\n",
        "    print(a, \"Hello\")\n",
        "print(\"Done\")"
      ],
      "metadata": {
        "colab": {
          "base_uri": "https://localhost:8080/"
        },
        "id": "0ka2mqHZINgM",
        "outputId": "249bf499-b9c2-405b-b5f6-81a2483703fe"
      },
      "execution_count": 8,
      "outputs": [
        {
          "output_type": "stream",
          "name": "stdout",
          "text": [
            "1 Welcome\n",
            "1 Hello\n",
            "2 Hello\n",
            "3 Hello\n",
            "2 Welcome\n",
            "1 Hello\n",
            "2 Hello\n",
            "3 Hello\n",
            "3 Welcome\n",
            "1 Hello\n",
            "2 Hello\n",
            "3 Hello\n",
            "4 Welcome\n",
            "1 Hello\n",
            "2 Hello\n",
            "3 Hello\n",
            "Done\n"
          ]
        }
      ]
    },
    {
      "cell_type": "code",
      "source": [
        "A,B,C = map(int,input().split()) # A,B,C 변수 값을 한 줄에 입력 받기\n",
        "nums = [A,B,C] # nums라는 list에 값을 저장\n",
        "nums.sort() # 오름 차순으로 list에 있는 값을 정렬\n",
        "print(nums) # 1번째 index에 있는 값을 출력\n",
        "print(nums[1])"
      ],
      "metadata": {
        "colab": {
          "base_uri": "https://localhost:8080/"
        },
        "id": "CkifKxrQKGkL",
        "outputId": "821827f5-abd6-40b6-ecf0-e060a88fbd43"
      },
      "execution_count": 33,
      "outputs": [
        {
          "output_type": "stream",
          "name": "stdout",
          "text": [
            "0 100 33\n",
            "[0, 33, 100]\n",
            "33\n"
          ]
        }
      ]
    },
    {
      "cell_type": "code",
      "source": [
        "# list는 변경이 가능함\n",
        "nums = [1,2,3]\n",
        "print(nums)\n",
        "nums[1] = 0\n",
        "print(nums)"
      ],
      "metadata": {
        "colab": {
          "base_uri": "https://localhost:8080/"
        },
        "id": "BXLan2EPP7-M",
        "outputId": "c00aed26-51cc-4bf8-c4b2-807a113f99aa"
      },
      "execution_count": 35,
      "outputs": [
        {
          "output_type": "stream",
          "name": "stdout",
          "text": [
            "[1, 2, 3]\n",
            "[1, 0, 3]\n"
          ]
        }
      ]
    },
    {
      "cell_type": "code",
      "source": [
        "# tuple은 변경이 불가함\n",
        "num = (1,2,3)\n",
        "print(num)"
      ],
      "metadata": {
        "colab": {
          "base_uri": "https://localhost:8080/"
        },
        "id": "7fsvNowuQCEk",
        "outputId": "22308019-207a-4857-fe42-50cf12af2e42"
      },
      "execution_count": 37,
      "outputs": [
        {
          "output_type": "stream",
          "name": "stdout",
          "text": [
            "(1, 2, 3)\n"
          ]
        }
      ]
    },
    {
      "cell_type": "code",
      "source": [
        "num(1) = 0\n",
        "print(num)"
      ],
      "metadata": {
        "colab": {
          "base_uri": "https://localhost:8080/",
          "height": 146
        },
        "id": "7NwoXeGvQNrk",
        "outputId": "3c2fd2b4-dc5a-4f71-9772-2fa1e010a782"
      },
      "execution_count": 38,
      "outputs": [
        {
          "output_type": "error",
          "ename": "SyntaxError",
          "evalue": "ignored",
          "traceback": [
            "\u001b[0;36m  File \u001b[0;32m\"<ipython-input-38-6a8a9583389a>\"\u001b[0;36m, line \u001b[0;32m1\u001b[0m\n\u001b[0;31m    num(1) = 0\u001b[0m\n\u001b[0m    ^\u001b[0m\n\u001b[0;31mSyntaxError\u001b[0m\u001b[0;31m:\u001b[0m cannot assign to function call here. Maybe you meant '==' instead of '='?\n"
          ]
        }
      ]
    },
    {
      "cell_type": "code",
      "source": [
        "# 빈 리스트 생성\n",
        "a = [ ]\n",
        "a = list( )\n",
        "print(a)"
      ],
      "metadata": {
        "colab": {
          "base_uri": "https://localhost:8080/"
        },
        "id": "qk9VnHQaT6Uc",
        "outputId": "7e04b73a-7065-476b-d5c9-40542feb900f"
      },
      "execution_count": 40,
      "outputs": [
        {
          "output_type": "stream",
          "name": "stdout",
          "text": [
            "[]\n"
          ]
        }
      ]
    },
    {
      "cell_type": "code",
      "source": [
        "x=[10,20,30,40] # index = 0부터 시작\n",
        "print(x)\n",
        "print(x[0],x[3])\n",
        "print(x[1:3]) # 리스트 슬라이싱 -> index = 1부터 index = 2까지 출력"
      ],
      "metadata": {
        "colab": {
          "base_uri": "https://localhost:8080/"
        },
        "id": "3O8w-QJ_Ud0e",
        "outputId": "5f3fcd22-da30-4860-eb38-d57623900db4"
      },
      "execution_count": 42,
      "outputs": [
        {
          "output_type": "stream",
          "name": "stdout",
          "text": [
            "[10, 20, 30, 40]\n",
            "10 40\n",
            "[20, 30]\n"
          ]
        }
      ]
    },
    {
      "cell_type": "code",
      "source": [
        "# list에서 사용하는 메소드 - 항목 추가\n",
        "x=[20]\n",
        "print(x)\n",
        "\n",
        "x.append(30) # 해당 값을 list 끝에 추가\n",
        "print(x)\n",
        "\n",
        "x.insert(0,10) # 해당 index 번호에 값을 추가 -> index = 0에 10이라는 값을 추가\n",
        "print(x)\n",
        "\n",
        "x.extend([40,50]) # 기존의 list에 새로운 list를 붙임\n",
        "print(x)\n",
        "\n",
        "y=[1,2]\n",
        "z=x+y\n",
        "print(z)"
      ],
      "metadata": {
        "colab": {
          "base_uri": "https://localhost:8080/"
        },
        "id": "1DnZaRK5U2nd",
        "outputId": "f23b6429-a21c-4267-dcaa-1940087aec70"
      },
      "execution_count": 44,
      "outputs": [
        {
          "output_type": "stream",
          "name": "stdout",
          "text": [
            "[20]\n",
            "[20, 30]\n",
            "[10, 20, 30]\n",
            "[10, 20, 30, 40, 50]\n",
            "[10, 20, 30, 40, 50, 1, 2]\n"
          ]
        }
      ]
    },
    {
      "cell_type": "code",
      "source": [
        "# list에서 사용하는 메소드 - 항목 삭제\n",
        "x=[10,20,30,40]\n",
        "x.remove(10) # 해당 값을 list에서 삭제\n",
        "print(x)\n",
        "\n",
        "x=[10,20,30,40] # 해당 index의 값을 list에서 삭제\n",
        "x.pop(2)\n",
        "print(x)\n",
        "\n",
        "x=[10,20,30,40] # list에 있는 모든 값을 삭제\n",
        "x.clear()\n",
        "print(x)"
      ],
      "metadata": {
        "colab": {
          "base_uri": "https://localhost:8080/"
        },
        "id": "F0gO-brtVRj5",
        "outputId": "a8744284-b5a6-497f-870c-4ab13b495f49"
      },
      "execution_count": 47,
      "outputs": [
        {
          "output_type": "stream",
          "name": "stdout",
          "text": [
            "[20, 30, 40]\n",
            "[10, 20, 40]\n",
            "[]\n"
          ]
        }
      ]
    },
    {
      "cell_type": "code",
      "source": [
        "# list에서 사용하는 메소드\n",
        "x=[10,20,30,10,10]\n",
        "print(x.index(30)) # 해당 값의 index를 출력\n",
        "\n",
        "print(x.count(10)) # 해당 값의 개수를 출력"
      ],
      "metadata": {
        "colab": {
          "base_uri": "https://localhost:8080/"
        },
        "id": "WVrAI0r6VwA9",
        "outputId": "d858aff5-184a-4c0d-fff2-0e75c859882f"
      },
      "execution_count": 48,
      "outputs": [
        {
          "output_type": "stream",
          "name": "stdout",
          "text": [
            "2\n",
            "3\n"
          ]
        }
      ]
    },
    {
      "cell_type": "code",
      "source": [
        "# list를 이용한 for문과 if문\n",
        "개설과목 = ['컴퓨터','파이썬','인공지능']\n",
        "if '파이썬' in 개설과목: # in: 연산자\n",
        "  print('파이썬 과목이 개설 되었습니다.')\n",
        "\n",
        "for 과목 in 개설과목:\n",
        "  print(과목)"
      ],
      "metadata": {
        "colab": {
          "base_uri": "https://localhost:8080/"
        },
        "id": "57fB1D96V8Ip",
        "outputId": "9c16354c-cb4e-4852-80cb-31d1239f1622"
      },
      "execution_count": 52,
      "outputs": [
        {
          "output_type": "stream",
          "name": "stdout",
          "text": [
            "파이썬 과목이 개설 되었습니다.\n",
            "컴퓨터\n",
            "파이썬\n",
            "인공지능\n"
          ]
        }
      ]
    },
    {
      "cell_type": "code",
      "source": [
        "# 내장 함수 vs 메소드\n",
        "''' 함수는 단독으로 사용 가능하지만 메소드는 객체와 함께 사용해야함 -> 객체.메소드 '''"
      ],
      "metadata": {
        "id": "JhtKobB9WcHQ"
      },
      "execution_count": null,
      "outputs": []
    },
    {
      "cell_type": "code",
      "source": [
        "a=[10,20,30]\n",
        "print(\"최솟값:\", min(a))\n",
        "print(\"최댓값:\", max(a))\n",
        "print(\"합 계:\", sum(a))"
      ],
      "metadata": {
        "colab": {
          "base_uri": "https://localhost:8080/"
        },
        "id": "8hlKoaF2WxFu",
        "outputId": "e4a1582f-188b-488e-e57e-3ad1f3cc9faa"
      },
      "execution_count": 53,
      "outputs": [
        {
          "output_type": "stream",
          "name": "stdout",
          "text": [
            "최솟값: 10\n",
            "최댓값: 30\n",
            "합 계: 60\n"
          ]
        }
      ]
    },
    {
      "cell_type": "code",
      "source": [
        "# map(함수, list): 리스트 안에 있는 모든 항목값에 원하는 함수를 일괄 적용시켜 그 결과를 돌려준다.\n",
        "a = ['10','20','30']\n",
        "print(sum(a)) #에러 발생"
      ],
      "metadata": {
        "colab": {
          "base_uri": "https://localhost:8080/",
          "height": 219
        },
        "id": "vfktJO03XSOu",
        "outputId": "50cdb62a-2d09-406a-fb5c-90d3b98730ed"
      },
      "execution_count": 54,
      "outputs": [
        {
          "output_type": "error",
          "ename": "TypeError",
          "evalue": "ignored",
          "traceback": [
            "\u001b[0;31m---------------------------------------------------------------------------\u001b[0m",
            "\u001b[0;31mTypeError\u001b[0m                                 Traceback (most recent call last)",
            "\u001b[0;32m<ipython-input-54-024966e79948>\u001b[0m in \u001b[0;36m<cell line: 3>\u001b[0;34m()\u001b[0m\n\u001b[1;32m      1\u001b[0m \u001b[0;31m# map(함수, list): 리스트 안에 있는 모든 항목값에 원하는 함수를 일괄 적용시켜 그 결과를 돌려준다.\u001b[0m\u001b[0;34m\u001b[0m\u001b[0;34m\u001b[0m\u001b[0m\n\u001b[1;32m      2\u001b[0m \u001b[0ma\u001b[0m \u001b[0;34m=\u001b[0m \u001b[0;34m[\u001b[0m\u001b[0;34m'10'\u001b[0m\u001b[0;34m,\u001b[0m\u001b[0;34m'20'\u001b[0m\u001b[0;34m,\u001b[0m\u001b[0;34m'30'\u001b[0m\u001b[0;34m]\u001b[0m\u001b[0;34m\u001b[0m\u001b[0;34m\u001b[0m\u001b[0m\n\u001b[0;32m----> 3\u001b[0;31m \u001b[0mprint\u001b[0m\u001b[0;34m(\u001b[0m\u001b[0msum\u001b[0m\u001b[0;34m(\u001b[0m\u001b[0ma\u001b[0m\u001b[0;34m)\u001b[0m\u001b[0;34m)\u001b[0m \u001b[0;31m#에러 발생\u001b[0m\u001b[0;34m\u001b[0m\u001b[0;34m\u001b[0m\u001b[0m\n\u001b[0m",
            "\u001b[0;31mTypeError\u001b[0m: unsupported operand type(s) for +: 'int' and 'str'"
          ]
        }
      ]
    },
    {
      "cell_type": "code",
      "source": [
        "a = ['10','20','30']\n",
        "a=map(int,a)\n",
        "print(sum(a))"
      ],
      "metadata": {
        "colab": {
          "base_uri": "https://localhost:8080/"
        },
        "id": "ZbdhHzRKXbBN",
        "outputId": "2bb2a54a-4ab2-4ba2-dd15-e506e3deff3d"
      },
      "execution_count": 55,
      "outputs": [
        {
          "output_type": "stream",
          "name": "stdout",
          "text": [
            "60\n"
          ]
        }
      ]
    },
    {
      "cell_type": "code",
      "source": [
        "a = ['10','20','30']\n",
        "a=list(map(int,a))\n",
        "print(a)\n",
        "print(sum(a))"
      ],
      "metadata": {
        "colab": {
          "base_uri": "https://localhost:8080/"
        },
        "id": "pGi9fHqfXdI9",
        "outputId": "0ae02039-a538-4050-b19f-eb7503b0671a"
      },
      "execution_count": 56,
      "outputs": [
        {
          "output_type": "stream",
          "name": "stdout",
          "text": [
            "[10, 20, 30]\n",
            "60\n"
          ]
        }
      ]
    },
    {
      "cell_type": "code",
      "source": [
        "score= [[29, 28, 27, 30],[30, 20, 27, 29],[23, 25, 29, 30]]\n",
        "print(score[0]) # 1행의 모든 값을 출력\n",
        "print(score[1][2]) # 2행 3열의 값을 출력"
      ],
      "metadata": {
        "colab": {
          "base_uri": "https://localhost:8080/"
        },
        "id": "5XYNBAHbYuBI",
        "outputId": "965cedb5-6d36-4016-a29c-7d074d47ae5f"
      },
      "execution_count": 58,
      "outputs": [
        {
          "output_type": "stream",
          "name": "stdout",
          "text": [
            "[29, 28, 27, 30]\n",
            "27\n"
          ]
        }
      ]
    },
    {
      "cell_type": "code",
      "source": [
        "score= [[29, 28, 27, 30],\n",
        " [30, 20, 27, 29],\n",
        "  [23, 25, 29, 30]]\n",
        "for r in range(3):\n",
        "  for c in range(4):\n",
        "    print(score[r][c], end=' ')\n",
        "print()"
      ],
      "metadata": {
        "colab": {
          "base_uri": "https://localhost:8080/"
        },
        "id": "eM1djNx1ZKIW",
        "outputId": "da4dd635-eb47-4525-effb-d5bd1b0902db"
      },
      "execution_count": 70,
      "outputs": [
        {
          "output_type": "stream",
          "name": "stdout",
          "text": [
            "29 28 27 30 30 20 27 29 23 25 29 30 \n"
          ]
        }
      ]
    },
    {
      "cell_type": "code",
      "source": [
        "score= [[29, 28, 27, 30],[30, 20, 27, 29],[23, 25, 29, 30]]\n",
        "for r in range(len(score)):\n",
        "  for c in range(len(score[r])):\n",
        "    print(score[r][c], end=\" \")\n",
        "print()"
      ],
      "metadata": {
        "colab": {
          "base_uri": "https://localhost:8080/"
        },
        "id": "W5PJJeKuZ4Dt",
        "outputId": "b2669f49-fcbd-479d-a2be-f418e5ea426c"
      },
      "execution_count": 71,
      "outputs": [
        {
          "output_type": "stream",
          "name": "stdout",
          "text": [
            "29 28 27 30 30 20 27 29 23 25 29 30 \n"
          ]
        }
      ]
    }
  ]
}