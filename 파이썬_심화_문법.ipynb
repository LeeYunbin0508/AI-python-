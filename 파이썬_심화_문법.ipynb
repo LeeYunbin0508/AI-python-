{
  "nbformat": 4,
  "nbformat_minor": 0,
  "metadata": {
    "colab": {
      "provenance": [],
      "authorship_tag": "ABX9TyPVE6zbhtROWkt2duVkDTHv",
      "include_colab_link": true
    },
    "kernelspec": {
      "name": "python3",
      "display_name": "Python 3"
    },
    "language_info": {
      "name": "python"
    }
  },
  "cells": [
    {
      "cell_type": "markdown",
      "metadata": {
        "id": "view-in-github",
        "colab_type": "text"
      },
      "source": [
        "<a href=\"https://colab.research.google.com/github/LeeYunbin0508/AI-python-/blob/main/%ED%8C%8C%EC%9D%B4%EC%8D%AC_%EC%8B%AC%ED%99%94_%EB%AC%B8%EB%B2%95.ipynb\" target=\"_parent\"><img src=\"https://colab.research.google.com/assets/colab-badge.svg\" alt=\"Open In Colab\"/></a>"
      ]
    },
    {
      "cell_type": "code",
      "execution_count": 3,
      "metadata": {
        "colab": {
          "base_uri": "https://localhost:8080/"
        },
        "id": "s_UE1yt1GJhF",
        "outputId": "83dc5df8-73a9-4e70-ba97-926c030a1241"
      },
      "outputs": [
        {
          "output_type": "stream",
          "name": "stdout",
          "text": [
            "['John,30,Engineer', 'Alice,25,Designer', 'Bob,22,Artist']\n",
            "Name: John Age: 30 Occupation: Engineer\n",
            "Name: Alice Age: 25 Occupation: Designer\n",
            "Name: Bob Age: 22 Occupation: Artist\n"
          ]
        }
      ],
      "source": [
        "# split 메소드\n",
        "data = \"John,30,Engineer\\nAlice,25,Designer\\nBob,22,Artist\"\n",
        "lines = data.split('\\n')\n",
        "print(lines)\n",
        "\n",
        "for line in lines:\n",
        "  fields = line.split(',')\n",
        "  print('Name:',fields[0],'Age:',fields[1],'Occupation:',fields[2])"
      ]
    },
    {
      "cell_type": "code",
      "source": [
        "# join 메소드\n",
        "words = ['Hello','world','this','is','a','test']\n",
        "sentence = ' '.join(words)\n",
        "print(sentence)"
      ],
      "metadata": {
        "colab": {
          "base_uri": "https://localhost:8080/"
        },
        "id": "sPlsX3m3HHzu",
        "outputId": "5000dff4-f2cb-4409-a3df-2779830c1c2f"
      },
      "execution_count": 7,
      "outputs": [
        {
          "output_type": "stream",
          "name": "stdout",
          "text": [
            "Hello world this is a test\n"
          ]
        }
      ]
    },
    {
      "cell_type": "code",
      "source": [
        "# LAB1. split the string\n",
        "input = 'Geeks for Geeks'\n",
        "output = input.split(' ')\n",
        "print(output)"
      ],
      "metadata": {
        "colab": {
          "base_uri": "https://localhost:8080/"
        },
        "id": "ia1x2jdUJHJ0",
        "outputId": "76365ff8-0df3-46c1-a882-0edc310b7b92"
      },
      "execution_count": 9,
      "outputs": [
        {
          "output_type": "stream",
          "name": "stdout",
          "text": [
            "['Geeks', 'for', 'Geeks']\n"
          ]
        }
      ]
    },
    {
      "cell_type": "code",
      "source": [
        "# LAB2. join the list of strings\n",
        "input = ['Geeks','for','Geeks']\n",
        "output = '-'.join(input)\n",
        "print(output)"
      ],
      "metadata": {
        "colab": {
          "base_uri": "https://localhost:8080/"
        },
        "id": "iyZ72oe4JbN7",
        "outputId": "2f4c95ba-9e43-408a-dcbf-cad6f737c8ac"
      },
      "execution_count": 10,
      "outputs": [
        {
          "output_type": "stream",
          "name": "stdout",
          "text": [
            "Geeks-for-Geeks\n"
          ]
        }
      ]
    },
    {
      "cell_type": "code",
      "source": [
        "# list comprehension\n",
        "squares = [x**2 for x in range(5)]\n",
        "print(squares)"
      ],
      "metadata": {
        "colab": {
          "base_uri": "https://localhost:8080/"
        },
        "id": "GKBxTQA_LBkk",
        "outputId": "409cbc56-4986-4da4-878a-0b998ee21394"
      },
      "execution_count": 11,
      "outputs": [
        {
          "output_type": "stream",
          "name": "stdout",
          "text": [
            "[0, 1, 4, 9, 16]\n"
          ]
        }
      ]
    },
    {
      "cell_type": "code",
      "source": [
        "# Lab1. list comprehension\n",
        "numbers = [1,2,3,4,5]\n",
        "print(\"Input:\",numbers)\n",
        "squares = [number**2 for number in numbers]\n",
        "print(\"Output:\",squares)"
      ],
      "metadata": {
        "colab": {
          "base_uri": "https://localhost:8080/"
        },
        "id": "AfjUTtIRMETh",
        "outputId": "a52c3a16-3491-41b3-f8ac-265723aa1cc8"
      },
      "execution_count": 13,
      "outputs": [
        {
          "output_type": "stream",
          "name": "stdout",
          "text": [
            "Input: [1, 2, 3, 4, 5]\n",
            "Output: [1, 4, 9, 16, 25]\n"
          ]
        }
      ]
    },
    {
      "cell_type": "code",
      "source": [
        "# Lab2. list comprehension\n",
        "cities = ['Seoul','New York','London','Shanghai','Paris','Tokyo']\n",
        "print(\"Input:\",cities)\n",
        "\n",
        "new_cities = [cities[i] for i in range(len(cities)) if i==0 or i==3]\n",
        "print(\"Output:\",new_cities)"
      ],
      "metadata": {
        "colab": {
          "base_uri": "https://localhost:8080/"
        },
        "id": "hHt5-C3aMbmz",
        "outputId": "9786053f-aec0-4144-a20a-1e7c7f66e4ff"
      },
      "execution_count": 16,
      "outputs": [
        {
          "output_type": "stream",
          "name": "stdout",
          "text": [
            "Input: ['Seoul', 'New York', 'London', 'Shanghai', 'Paris', 'Tokyo']\n",
            "Output: ['Seoul', 'Shanghai']\n"
          ]
        }
      ]
    }
  ]
}