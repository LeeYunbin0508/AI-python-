{
  "nbformat": 4,
  "nbformat_minor": 0,
  "metadata": {
    "colab": {
      "provenance": [],
      "authorship_tag": "ABX9TyMdepjr7HErkfBDBcETv4It",
      "include_colab_link": true
    },
    "kernelspec": {
      "name": "python3",
      "display_name": "Python 3"
    },
    "language_info": {
      "name": "python"
    }
  },
  "cells": [
    {
      "cell_type": "markdown",
      "metadata": {
        "id": "view-in-github",
        "colab_type": "text"
      },
      "source": [
        "<a href=\"https://colab.research.google.com/github/LeeYunbin0508/AI-python-/blob/main/%ED%8C%8C%EC%9D%B4%EC%8D%AC_%EC%8B%AC%ED%99%94_%EB%AC%B8%EB%B2%95.ipynb\" target=\"_parent\"><img src=\"https://colab.research.google.com/assets/colab-badge.svg\" alt=\"Open In Colab\"/></a>"
      ]
    },
    {
      "cell_type": "code",
      "execution_count": null,
      "metadata": {
        "colab": {
          "base_uri": "https://localhost:8080/"
        },
        "id": "s_UE1yt1GJhF",
        "outputId": "83dc5df8-73a9-4e70-ba97-926c030a1241"
      },
      "outputs": [
        {
          "output_type": "stream",
          "name": "stdout",
          "text": [
            "['John,30,Engineer', 'Alice,25,Designer', 'Bob,22,Artist']\n",
            "Name: John Age: 30 Occupation: Engineer\n",
            "Name: Alice Age: 25 Occupation: Designer\n",
            "Name: Bob Age: 22 Occupation: Artist\n"
          ]
        }
      ],
      "source": [
        "# split 메소드\n",
        "data = \"John,30,Engineer\\nAlice,25,Designer\\nBob,22,Artist\"\n",
        "lines = data.split('\\n')\n",
        "print(lines)\n",
        "\n",
        "for line in lines:\n",
        "  fields = line.split(',')\n",
        "  print('Name:',fields[0],'Age:',fields[1],'Occupation:',fields[2])"
      ]
    },
    {
      "cell_type": "code",
      "source": [
        "# join 메소드\n",
        "words = ['Hello','world','this','is','a','test']\n",
        "sentence = ' '.join(words)\n",
        "print(sentence)"
      ],
      "metadata": {
        "colab": {
          "base_uri": "https://localhost:8080/"
        },
        "id": "sPlsX3m3HHzu",
        "outputId": "5000dff4-f2cb-4409-a3df-2779830c1c2f"
      },
      "execution_count": null,
      "outputs": [
        {
          "output_type": "stream",
          "name": "stdout",
          "text": [
            "Hello world this is a test\n"
          ]
        }
      ]
    },
    {
      "cell_type": "code",
      "source": [
        "# LAB1. split the string\n",
        "input = 'Geeks for Geeks'\n",
        "output = input.split(' ')\n",
        "print(output)"
      ],
      "metadata": {
        "colab": {
          "base_uri": "https://localhost:8080/"
        },
        "id": "ia1x2jdUJHJ0",
        "outputId": "76365ff8-0df3-46c1-a882-0edc310b7b92"
      },
      "execution_count": null,
      "outputs": [
        {
          "output_type": "stream",
          "name": "stdout",
          "text": [
            "['Geeks', 'for', 'Geeks']\n"
          ]
        }
      ]
    },
    {
      "cell_type": "code",
      "source": [
        "# LAB2. join the list of strings\n",
        "input = ['Geeks','for','Geeks']\n",
        "output = '-'.join(input)\n",
        "print(output)"
      ],
      "metadata": {
        "colab": {
          "base_uri": "https://localhost:8080/"
        },
        "id": "iyZ72oe4JbN7",
        "outputId": "2f4c95ba-9e43-408a-dcbf-cad6f737c8ac"
      },
      "execution_count": null,
      "outputs": [
        {
          "output_type": "stream",
          "name": "stdout",
          "text": [
            "Geeks-for-Geeks\n"
          ]
        }
      ]
    },
    {
      "cell_type": "code",
      "source": [
        "# list comprehension\n",
        "squares = [x**2 for x in range(5)]\n",
        "print(squares)"
      ],
      "metadata": {
        "colab": {
          "base_uri": "https://localhost:8080/"
        },
        "id": "GKBxTQA_LBkk",
        "outputId": "409cbc56-4986-4da4-878a-0b998ee21394"
      },
      "execution_count": null,
      "outputs": [
        {
          "output_type": "stream",
          "name": "stdout",
          "text": [
            "[0, 1, 4, 9, 16]\n"
          ]
        }
      ]
    },
    {
      "cell_type": "code",
      "source": [
        "# Lab1. list comprehension\n",
        "numbers = [1,2,3,4,5]\n",
        "print(\"Input:\",numbers)\n",
        "squares = [number**2 for number in numbers]\n",
        "print(\"Output:\",squares)"
      ],
      "metadata": {
        "colab": {
          "base_uri": "https://localhost:8080/"
        },
        "id": "AfjUTtIRMETh",
        "outputId": "a52c3a16-3491-41b3-f8ac-265723aa1cc8"
      },
      "execution_count": null,
      "outputs": [
        {
          "output_type": "stream",
          "name": "stdout",
          "text": [
            "Input: [1, 2, 3, 4, 5]\n",
            "Output: [1, 4, 9, 16, 25]\n"
          ]
        }
      ]
    },
    {
      "cell_type": "code",
      "source": [
        "# Lab2. list comprehension\n",
        "cities = ['Seoul','New York','London','Shanghai','Paris','Tokyo']\n",
        "print(\"Input:\",cities)\n",
        "\n",
        "new_cities = [cities[i] for i in range(len(cities)) if i==0 or i==3]\n",
        "print(\"Output:\",new_cities)"
      ],
      "metadata": {
        "colab": {
          "base_uri": "https://localhost:8080/"
        },
        "id": "hHt5-C3aMbmz",
        "outputId": "9786053f-aec0-4144-a20a-1e7c7f66e4ff"
      },
      "execution_count": null,
      "outputs": [
        {
          "output_type": "stream",
          "name": "stdout",
          "text": [
            "Input: ['Seoul', 'New York', 'London', 'Shanghai', 'Paris', 'Tokyo']\n",
            "Output: ['Seoul', 'Shanghai']\n"
          ]
        }
      ]
    },
    {
      "cell_type": "code",
      "source": [
        "# enumerate & zip\n",
        "\n",
        "# enumerate: 순회 가능한 객체를 인덱스와 함께 반환\n",
        "fruits = ['apple','banana','cherry']\n",
        "for index, fruit in enumerate(fruits):\n",
        "  print(index, fruit)"
      ],
      "metadata": {
        "colab": {
          "base_uri": "https://localhost:8080/"
        },
        "id": "bhV6ivptlvyO",
        "outputId": "82b367bf-d834-4de4-e639-b6e5490278b2"
      },
      "execution_count": 1,
      "outputs": [
        {
          "output_type": "stream",
          "name": "stdout",
          "text": [
            "0 apple\n",
            "1 banana\n",
            "2 cherry\n"
          ]
        }
      ]
    },
    {
      "cell_type": "code",
      "source": [
        "# Lab1\n",
        "alphabets = ['a','b','c']\n",
        "print(\"Input:\",alphabets)\n",
        "print(\"Output:\")\n",
        "for index, alphabet in enumerate(alphabets):\n",
        "  print(f\"fruit{index} name is {alphabet}\")"
      ],
      "metadata": {
        "colab": {
          "base_uri": "https://localhost:8080/"
        },
        "id": "4XqPhDA6xxnJ",
        "outputId": "c9c54538-f080-4088-85f0-acacf94c080f"
      },
      "execution_count": 6,
      "outputs": [
        {
          "output_type": "stream",
          "name": "stdout",
          "text": [
            "Input: ['a', 'b', 'c']\n",
            "Output:\n",
            "fruit0 name is a\n",
            "fruit1 name is b\n",
            "fruit2 name is c\n"
          ]
        }
      ]
    },
    {
      "cell_type": "code",
      "source": [
        "# Lab2\n",
        "alphabets = ['a','b','c']\n",
        "print(\"Output:\")\n",
        "for i in range(len(alphabets)):\n",
        "  print(f\"fruit{i} name is {alphabets[i]} \")"
      ],
      "metadata": {
        "colab": {
          "base_uri": "https://localhost:8080/"
        },
        "id": "n1IQK6w-1-Iq",
        "outputId": "6e267338-2d87-4a56-d27f-17c9a71dd71b"
      },
      "execution_count": 7,
      "outputs": [
        {
          "output_type": "stream",
          "name": "stdout",
          "text": [
            "Output:\n",
            "fruit0 name is a \n",
            "fruit1 name is b \n",
            "fruit2 name is c \n"
          ]
        }
      ]
    },
    {
      "cell_type": "code",
      "source": [
        "# zip\n",
        "names = ['John','Jane','Doe']\n",
        "ages = [25,30,35]\n",
        "\n",
        "for name, age in zip(names,ages):\n",
        "  print(f\"{name} is {age} years old.\")"
      ],
      "metadata": {
        "colab": {
          "base_uri": "https://localhost:8080/"
        },
        "id": "9iaqh1EM3j1N",
        "outputId": "cb0ebaf8-0662-4504-d5d6-1b5321ece6da"
      },
      "execution_count": 8,
      "outputs": [
        {
          "output_type": "stream",
          "name": "stdout",
          "text": [
            "John is 25 years old.\n",
            "Jane is 30 years old.\n",
            "Doe is 35 years old.\n"
          ]
        }
      ]
    },
    {
      "cell_type": "code",
      "source": [
        "# Lab1\n",
        "name = ['M','N','S','A']\n",
        "roll_no = [4,1,3,2]\n",
        "\n",
        "set_result = set(zip(name, roll_no))\n",
        "print(f\"Output: {set_result}\")\n"
      ],
      "metadata": {
        "colab": {
          "base_uri": "https://localhost:8080/"
        },
        "id": "MfU1CQfL6yYf",
        "outputId": "d2532e65-60f4-4476-be56-5f2791bf5be6"
      },
      "execution_count": 16,
      "outputs": [
        {
          "output_type": "stream",
          "name": "stdout",
          "text": [
            "Output: {('N', 1), ('M', 4), ('S', 3), ('A', 2)}\n"
          ]
        }
      ]
    },
    {
      "cell_type": "code",
      "source": [
        "# Lab2\n",
        "names = ['M','R','C']\n",
        "ages = [24,50,18]\n",
        "print(\"Output:\")\n",
        "for index, (name, age) in enumerate(zip(names,ages)):\n",
        "  print(f\"{index} {name} {age}\")"
      ],
      "metadata": {
        "colab": {
          "base_uri": "https://localhost:8080/"
        },
        "id": "eENFVzvuAw8l",
        "outputId": "cf53c154-5217-447d-8f79-50743456b454"
      },
      "execution_count": 18,
      "outputs": [
        {
          "output_type": "stream",
          "name": "stdout",
          "text": [
            "Output:\n",
            "0 M 24\n",
            "1 R 50\n",
            "2 C 18\n"
          ]
        }
      ]
    },
    {
      "cell_type": "code",
      "source": [
        "numbers = [1, 2, 3, 4, 5]\n",
        "squared = list(map(lambda x: x**2, numbers))\n",
        "print(squared)"
      ],
      "metadata": {
        "colab": {
          "base_uri": "https://localhost:8080/"
        },
        "id": "ymozwpP3GzSj",
        "outputId": "1d8a333e-23a2-4c5d-8ea9-df0c825c4daf"
      },
      "execution_count": 19,
      "outputs": [
        {
          "output_type": "stream",
          "name": "stdout",
          "text": [
            "[1, 4, 9, 16, 25]\n"
          ]
        }
      ]
    },
    {
      "cell_type": "code",
      "source": [
        "# Lab\n",
        "data_list = ['but','i','wont','hesitate','no','more','no','more','it','cannot','wait','im','yours']\n",
        "sorted_words = sorted(data_list, key=lambda x: (len(x), x))\n",
        "\n",
        "print(sorted_words)"
      ],
      "metadata": {
        "colab": {
          "base_uri": "https://localhost:8080/"
        },
        "id": "bE_Jd9dJG8K2",
        "outputId": "aac6991f-7dc4-4ffe-a3f2-19b82460585c"
      },
      "execution_count": 24,
      "outputs": [
        {
          "output_type": "stream",
          "name": "stdout",
          "text": [
            "['i', 'im', 'it', 'no', 'no', 'but', 'more', 'more', 'wait', 'wont', 'yours', 'cannot', 'hesitate']\n"
          ]
        }
      ]
    },
    {
      "cell_type": "code",
      "source": [
        "# map: 함수와 순회 가능한 객체를 받아 객체의 각 항목에 함수를 적용한 결과를 반환\n",
        "numbers = [1,2,3,4]\n",
        "squares = list(map(lambda x: x*2, numbers))\n",
        "print(squares)"
      ],
      "metadata": {
        "colab": {
          "base_uri": "https://localhost:8080/"
        },
        "id": "lPr7WiNLNrHf",
        "outputId": "fa133940-a1a5-4982-fbca-323a9277807e"
      },
      "execution_count": 25,
      "outputs": [
        {
          "output_type": "stream",
          "name": "stdout",
          "text": [
            "[2, 4, 6, 8]\n"
          ]
        }
      ]
    },
    {
      "cell_type": "code",
      "source": [
        "# Lab\n",
        "num1 = [4,5,6]\n",
        "num2 = [5,6,7]\n",
        "sum_result = list(map(lambda x,y: x+y,num1, num2))\n",
        "print(\"Output:\")\n",
        "print(sum_result)"
      ],
      "metadata": {
        "colab": {
          "base_uri": "https://localhost:8080/"
        },
        "id": "V3hL9hsNN-Ts",
        "outputId": "2ed38604-8635-4971-e6fd-f8b831be889d"
      },
      "execution_count": 32,
      "outputs": [
        {
          "output_type": "stream",
          "name": "stdout",
          "text": [
            "Output:\n",
            "[9, 11, 13]\n"
          ]
        }
      ]
    }
  ]
}