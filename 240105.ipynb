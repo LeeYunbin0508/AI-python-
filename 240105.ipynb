{
  "nbformat": 4,
  "nbformat_minor": 0,
  "metadata": {
    "colab": {
      "provenance": [],
      "authorship_tag": "ABX9TyNTf/8X6otDnpg4LN0m/Czj",
      "include_colab_link": true
    },
    "kernelspec": {
      "name": "python3",
      "display_name": "Python 3"
    },
    "language_info": {
      "name": "python"
    }
  },
  "cells": [
    {
      "cell_type": "markdown",
      "metadata": {
        "id": "view-in-github",
        "colab_type": "text"
      },
      "source": [
        "<a href=\"https://colab.research.google.com/github/LeeYunbin0508/AI-python-/blob/main/240105.ipynb\" target=\"_parent\"><img src=\"https://colab.research.google.com/assets/colab-badge.svg\" alt=\"Open In Colab\"/></a>"
      ]
    },
    {
      "cell_type": "code",
      "execution_count": 2,
      "metadata": {
        "colab": {
          "base_uri": "https://localhost:8080/"
        },
        "id": "S8Tx4iG8JnD9",
        "outputId": "6909566b-fd60-4518-b53e-b26831a2806e"
      },
      "outputs": [
        {
          "output_type": "stream",
          "name": "stdout",
          "text": [
            "Name: John Age: 30 Occupation: Engineer\n",
            "Name: Alice Age: 25 Occupation: Designer\n",
            "Name: Bob Age: 22 Occupation: Artist\n"
          ]
        }
      ],
      "source": [
        "# split: 문자열을 특정 구분자로 나누어 리스트로 반환하는 메소드 -> 객체.split(구분자)\n",
        "\n",
        "data = \"John,30,Engineer\\nAlice,25,Designer\\nBob,22,Artist\"\n",
        "lines = data.split(\"\\n\") # \\n이라는 구분자로 나누어 리스트 형태로 저장함\n",
        "\n",
        "for line in lines:\n",
        "  fields = line.split(\",\")\n",
        "  print(\"Name:\",fields[0],\"Age:\",fields[1],\"Occupation:\",fields[2])"
      ]
    },
    {
      "cell_type": "code",
      "source": [
        "# join: 리스트의 각 요소를 문자열로 변환하고, 주어진 구분자로 결합하여 하나의 문자열로 반환하는 메소드\n",
        "\n",
        "words=['Hello','world','this','is','a','test']\n",
        "sentence = ' '.join(words) # 공백을 구분자로하여 words 리스트 내의 요소를 결합한다.\n",
        "print(sentence)"
      ],
      "metadata": {
        "colab": {
          "base_uri": "https://localhost:8080/"
        },
        "id": "sxBFWiSUPKQ7",
        "outputId": "343838a8-22b4-433c-903c-d5c507ff8586"
      },
      "execution_count": 5,
      "outputs": [
        {
          "output_type": "stream",
          "name": "stdout",
          "text": [
            "Hello world this is a test\n"
          ]
        }
      ]
    },
    {
      "cell_type": "code",
      "source": [
        "# Lab\n",
        "\n",
        "a = \"Geeks for Geeks\"\n",
        "b = data.split(\" \") # 공백 구분자로 나누어 리스트 형태로 저장함\n",
        "print(b)\n",
        "\n",
        "c = '-'.join(b) # '-'를 구분자로하여 lines 리스트 내의 요소를 결합한다.\n",
        "print(c)"
      ],
      "metadata": {
        "colab": {
          "base_uri": "https://localhost:8080/"
        },
        "id": "XjzoNiR5Pt4Q",
        "outputId": "997e8487-3dc2-470a-e7a6-9d2a0bf035d6"
      },
      "execution_count": 12,
      "outputs": [
        {
          "output_type": "stream",
          "name": "stdout",
          "text": [
            "['Geeks', 'for', 'Geeks']\n",
            "Geeks-for-Geeks\n"
          ]
        }
      ]
    },
    {
      "cell_type": "code",
      "source": [
        "# List comprehension: 리스트를 생성하는 간결하고 직관적인 표기법\n",
        "\n",
        "squares = [x**2 for x in range(5) if x%2==0] # 0부터 4까지 짝수인 x를 제곱하라\n",
        "print(squares) # [0,4,16]"
      ],
      "metadata": {
        "colab": {
          "base_uri": "https://localhost:8080/"
        },
        "id": "BAtIESUlQJYB",
        "outputId": "3c2ba21e-d79d-43a8-854a-9ed2f1747124"
      },
      "execution_count": 22,
      "outputs": [
        {
          "output_type": "stream",
          "name": "stdout",
          "text": [
            "[0, 4, 16]\n"
          ]
        }
      ]
    },
    {
      "cell_type": "code",
      "source": [
        "# 1부터 20까지 3의 배수만 제곱한 리스트 만들기\n",
        "\n",
        "a = [x**2 for x in range(1,21) if x%3==0] # 1부터 20까지 3의 배수인 x를 제곱하라\n",
        "print(a)"
      ],
      "metadata": {
        "colab": {
          "base_uri": "https://localhost:8080/"
        },
        "id": "Mw5xZajCTW_j",
        "outputId": "9e1fdd2a-515b-4611-c9f4-2241587264c5"
      },
      "execution_count": 24,
      "outputs": [
        {
          "output_type": "stream",
          "name": "stdout",
          "text": [
            "[9, 36, 81, 144, 225, 324]\n"
          ]
        }
      ]
    },
    {
      "cell_type": "code",
      "source": [
        "# 수를 제곱한 새로운 리스트를 만들기\n",
        "\n",
        "Data = [1,2,3,4,5]\n",
        "New_Data = [x**2 for x in Data]\n",
        "print(New_Data)"
      ],
      "metadata": {
        "colab": {
          "base_uri": "https://localhost:8080/"
        },
        "id": "DkHLyi_ST6wD",
        "outputId": "8673e05c-9e95-4fa9-9bcc-efeb48dc22dc"
      },
      "execution_count": 26,
      "outputs": [
        {
          "output_type": "stream",
          "name": "stdout",
          "text": [
            "[1, 4, 9, 16, 25]\n"
          ]
        }
      ]
    },
    {
      "cell_type": "code",
      "source": [
        "# enumerate: 순회 가능한 객체를 인덱스와 함께 반환\n",
        "# enumerate(iterable, start=0) -> iterable: 반복 가능한 객체 / start = 0: 인덱스를 시작할 값. 기본값은 0\n",
        "\n",
        "fruits = ['apple','banana','cherry']\n",
        "for index, fruit in enumerate(fruits,start=1):\n",
        "  print(index, fruit)"
      ],
      "metadata": {
        "colab": {
          "base_uri": "https://localhost:8080/"
        },
        "id": "S0ybzaGHUem8",
        "outputId": "e55b39a1-80aa-488b-f216-28780e271d57"
      },
      "execution_count": 36,
      "outputs": [
        {
          "output_type": "stream",
          "name": "stdout",
          "text": [
            "1 apple\n",
            "2 banana\n",
            "3 cherry\n"
          ]
        }
      ]
    },
    {
      "cell_type": "code",
      "source": [
        "# Lab\n",
        "\n",
        "# enumerate를 사용한 코드\n",
        "alphabet = ['a','b','c']\n",
        "for index, alphabet in enumerate(alphabet, start=0):\n",
        "  print(f\"fruit {index} name is {alphabet}\")"
      ],
      "metadata": {
        "colab": {
          "base_uri": "https://localhost:8080/"
        },
        "id": "nIJ-7cumWqcQ",
        "outputId": "c356e7c4-aee6-420e-8d60-6b8efa78ffd3"
      },
      "execution_count": 47,
      "outputs": [
        {
          "output_type": "stream",
          "name": "stdout",
          "text": [
            "fruit 0 name is a\n",
            "fruit 1 name is b\n",
            "fruit 2 name is c\n"
          ]
        }
      ]
    },
    {
      "cell_type": "code",
      "source": [
        "# range를 사용한 코드\n",
        "alphabet = ['a','b','c']\n",
        "for i in range(len(alphabet)):\n",
        "  print(f\"fruit {i} name is {alphabet[i]}\")"
      ],
      "metadata": {
        "colab": {
          "base_uri": "https://localhost:8080/"
        },
        "id": "BRPZvD1hXqQM",
        "outputId": "60c88d08-c6af-4643-b28d-b937786df25c"
      },
      "execution_count": 53,
      "outputs": [
        {
          "output_type": "stream",
          "name": "stdout",
          "text": [
            "fruit 0 name is a\n",
            "fruit 1 name is b\n",
            "fruit 2 name is c\n"
          ]
        }
      ]
    },
    {
      "cell_type": "code",
      "source": [
        "# zip: 두 개 이상의 순회 가능한 객체를 병렬적으로 순회하면서 각 항목을 튜플로 묶어서 반환\n",
        "\n",
        "names = ['Jonn','Jane','Doe']\n",
        "ages = [25,30,35]\n",
        "\n",
        "for name, age in zip(names,ages):\n",
        "  print(f\"{name} is {age} years old.\")"
      ],
      "metadata": {
        "colab": {
          "base_uri": "https://localhost:8080/"
        },
        "id": "niwAd9yNX0C0",
        "outputId": "1422a731-125a-49a6-8743-927d210ddc06"
      },
      "execution_count": 52,
      "outputs": [
        {
          "output_type": "stream",
          "name": "stdout",
          "text": [
            "Jonn is 25 years old.\n",
            "Jane is 30 years old.\n",
            "Doe is 35 years old.\n"
          ]
        }
      ]
    },
    {
      "cell_type": "code",
      "source": [
        "# Lab\n",
        "\n",
        "# 1. Zip\n",
        "name = [\"M\",\"N\",\"S\",\"A\"]\n",
        "roll_no = [4,1,3,2]\n",
        "a = set(zip(name,roll_no))\n",
        "print(a)\n",
        "\n",
        "# 2. Zip & enumerate\n",
        "names = ['M','R','C']\n",
        "ages = [24,50,18]\n",
        "for i in range(len(names)):\n",
        "  print(f\"{i} {names[i]} {ages[i]}\")"
      ],
      "metadata": {
        "colab": {
          "base_uri": "https://localhost:8080/"
        },
        "id": "OeK6xS8zZUnH",
        "outputId": "dc89bef7-d501-4a49-f2c1-1ce09c4c5a8d"
      },
      "execution_count": 63,
      "outputs": [
        {
          "output_type": "stream",
          "name": "stdout",
          "text": [
            "{('N', 1), ('S', 3), ('A', 2), ('M', 4)}\n",
            "0 M 24\n",
            "1 R 50\n",
            "2 C 18\n"
          ]
        }
      ]
    },
    {
      "cell_type": "code",
      "source": [
        "# lamda & map\n",
        "# lamda: 이름 없는 함수를 정의할 때 사용 / lambda arguments: expression\n",
        "\n",
        "double = lambda x: x*2\n",
        "print(double(5)) # 10"
      ],
      "metadata": {
        "colab": {
          "base_uri": "https://localhost:8080/"
        },
        "id": "YN2UuLlbdhRZ",
        "outputId": "badd00dd-ac44-4dce-f128-310500b4104c"
      },
      "execution_count": 64,
      "outputs": [
        {
          "output_type": "stream",
          "name": "stdout",
          "text": [
            "10\n"
          ]
        }
      ]
    },
    {
      "cell_type": "code",
      "source": [
        "def add(x,y):\n",
        "  return x+y\n",
        "a, b = 50, 100\n",
        "print(add(a,b))\n",
        "\n",
        "add = lambda x,y: x+y\n",
        "print(add(60,100))"
      ],
      "metadata": {
        "colab": {
          "base_uri": "https://localhost:8080/"
        },
        "id": "jRWq0Hrwd3o0",
        "outputId": "6d335230-ed9e-40a7-91db-1366ca9df936"
      },
      "execution_count": 68,
      "outputs": [
        {
          "output_type": "stream",
          "name": "stdout",
          "text": [
            "150\n",
            "160\n"
          ]
        }
      ]
    },
    {
      "cell_type": "code",
      "source": [
        "# map: 함수와 순회 가능한 객체를 받아, 객체의 각 항목에 함수를 적용한 결과를 반환\n",
        "# map(function, iterable1, iterabl2, ...) -> function: 함수 / iterable: 함수를 적용할 데이터 집합\n",
        "\n",
        "numbers = [1,2,3,4]\n",
        "squared = list(map(lambda x: x*2, numbers))\n",
        "print(squared)"
      ],
      "metadata": {
        "colab": {
          "base_uri": "https://localhost:8080/"
        },
        "id": "r9C8JG7-ezEK",
        "outputId": "967ae3a4-36cd-4b84-d2b7-854a0a4477da"
      },
      "execution_count": 69,
      "outputs": [
        {
          "output_type": "stream",
          "name": "stdout",
          "text": [
            "[2, 4, 6, 8]\n"
          ]
        }
      ]
    },
    {
      "cell_type": "code",
      "source": [
        "# Lab\n",
        "\n",
        "num1 = [4,5,6]\n",
        "num2 = [5,6,7]\n",
        "\n",
        "sum = list(map(lambda x,y: x+y, num1, num2))\n",
        "print(sum)"
      ],
      "metadata": {
        "colab": {
          "base_uri": "https://localhost:8080/"
        },
        "id": "75USMcMUfo4Z",
        "outputId": "0772c0f6-aaa4-4409-a887-3428b38f3230"
      },
      "execution_count": 70,
      "outputs": [
        {
          "output_type": "stream",
          "name": "stdout",
          "text": [
            "[9, 11, 13]\n"
          ]
        }
      ]
    },
    {
      "cell_type": "code",
      "source": [
        "# list comprehension, lambda 중요함"
      ],
      "metadata": {
        "id": "IgHRwWpUf4OZ"
      },
      "execution_count": null,
      "outputs": []
    }
  ]
}