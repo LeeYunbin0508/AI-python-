{
  "nbformat": 4,
  "nbformat_minor": 0,
  "metadata": {
    "colab": {
      "provenance": [],
      "authorship_tag": "ABX9TyM9Tt5z9zTyXrI7+KnYfQ59",
      "include_colab_link": true
    },
    "kernelspec": {
      "name": "python3",
      "display_name": "Python 3"
    },
    "language_info": {
      "name": "python"
    }
  },
  "cells": [
    {
      "cell_type": "markdown",
      "metadata": {
        "id": "view-in-github",
        "colab_type": "text"
      },
      "source": [
        "<a href=\"https://colab.research.google.com/github/LeeYunbin0508/AI-python-/blob/main/1%EC%9B%942%EC%9D%BC.ipynb\" target=\"_parent\"><img src=\"https://colab.research.google.com/assets/colab-badge.svg\" alt=\"Open In Colab\"/></a>"
      ]
    },
    {
      "cell_type": "code",
      "execution_count": 1,
      "metadata": {
        "colab": {
          "base_uri": "https://localhost:8080/"
        },
        "id": "lsgQcUQU_1po",
        "outputId": "c1fa7b70-a677-422b-df3b-855bcbd4943f"
      },
      "outputs": [
        {
          "output_type": "stream",
          "name": "stdout",
          "text": [
            "당신의 나이는?20\n",
            "20 살 이군요.\n",
            "내년엔 21 살이 되네요\n",
            "<class 'str'>\n"
          ]
        }
      ],
      "source": [
        "a = input(\"당신의 나이는?\")\n",
        "\n",
        "print(a, \"살 이군요.\")\n",
        "print(\"내년엔\", int(a)+1,\"살이 되네요\")\n",
        "print(type(a))"
      ]
    },
    {
      "cell_type": "code",
      "source": [
        "a=int(input(\"당신의 나이는?\"))\n",
        "msg=str(a)+\"살 이군요.\"\n",
        "print(msg)\n",
        "print(\"내년엔\", a+1, \"살이 되네요.\")\n",
        "print(type(a))"
      ],
      "metadata": {
        "colab": {
          "base_uri": "https://localhost:8080/"
        },
        "id": "5Co4hHiuAJV1",
        "outputId": "d80eb232-0c7c-4d58-a2e2-acb2d36825be"
      },
      "execution_count": 2,
      "outputs": [
        {
          "output_type": "stream",
          "name": "stdout",
          "text": [
            "당신의 나이는?20\n",
            "20살 이군요.\n",
            "내년엔 21 살이 되네요.\n",
            "<class 'int'>\n"
          ]
        }
      ]
    },
    {
      "cell_type": "code",
      "source": [
        "a=\"파이썬\"\n",
        "print(a,\"아 반가워\")\n",
        "\n",
        "msg=a+\"아 반가워\"\n",
        "print(msg)\n",
        "\n",
        "print(\"%s아 반가워\"%a)"
      ],
      "metadata": {
        "colab": {
          "base_uri": "https://localhost:8080/"
        },
        "id": "yZfdrg7sAbW9",
        "outputId": "7a4d47e6-5d5b-4034-e1c2-45be1e54bbd1"
      },
      "execution_count": 3,
      "outputs": [
        {
          "output_type": "stream",
          "name": "stdout",
          "text": [
            "파이썬 아 반가워\n",
            "파이썬아 반가워\n",
            "파이썬아 반가워\n"
          ]
        }
      ]
    },
    {
      "cell_type": "code",
      "source": [
        "name = \"홍길동\"\n",
        "age = 20.5\n",
        "print(\"이름은 {:s}이고 나이는 {:.2f}입니다.\".format(name,age))"
      ],
      "metadata": {
        "colab": {
          "base_uri": "https://localhost:8080/"
        },
        "id": "-Z_zORsyAoEf",
        "outputId": "b96c6747-f179-4e0e-d747-c12ed9040f4d"
      },
      "execution_count": 4,
      "outputs": [
        {
          "output_type": "stream",
          "name": "stdout",
          "text": [
            "이름은 홍길동이고 나이는 20.50입니다.\n"
          ]
        }
      ]
    }
  ]
}