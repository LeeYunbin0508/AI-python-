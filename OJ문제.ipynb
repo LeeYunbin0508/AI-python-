{
  "nbformat": 4,
  "nbformat_minor": 0,
  "metadata": {
    "colab": {
      "provenance": [],
      "authorship_tag": "ABX9TyPWqL6qVzZd2fTJMAt1Tl24",
      "include_colab_link": true
    },
    "kernelspec": {
      "name": "python3",
      "display_name": "Python 3"
    },
    "language_info": {
      "name": "python"
    }
  },
  "cells": [
    {
      "cell_type": "markdown",
      "metadata": {
        "id": "view-in-github",
        "colab_type": "text"
      },
      "source": [
        "<a href=\"https://colab.research.google.com/github/LeeYunbin0508/AI-python-/blob/main/OJ%EB%AC%B8%EC%A0%9C.ipynb\" target=\"_parent\"><img src=\"https://colab.research.google.com/assets/colab-badge.svg\" alt=\"Open In Colab\"/></a>"
      ]
    },
    {
      "cell_type": "code",
      "execution_count": null,
      "metadata": {
        "id": "vW5eRI79hFqf"
      },
      "outputs": [],
      "source": [
        "''' 문제 1:\n",
        "Description\n",
        "\n",
        "사용자로부터 3개의 정수를 입력받고 내림차순(큰수->작은수)으로 이들을 화면에 출력하는 프로그램을 작성하시오.\n",
        "\n",
        "\n",
        "Input\n",
        "첫째 줄에서 3개의 숫자를 한칸씩 띄워서 입력한다.\n",
        "\n",
        "\n",
        "Output\n",
        "3개의 숫자 중 2개이상 같은 숫자가 있으면 \"wrong value\" 라고 출력하고 아니면 한칸씩 띄워서 큰 숫자부터 하나씩 출력한다"
      ]
    },
    {
      "cell_type": "code",
      "source": [
        "''' 문제 2:\n",
        "Description\n",
        "\n",
        "본 프로그램은 초를 입력 받아서 시,분,초로 계산하여 출력하는 프로그램을 작성한다.\n",
        "\n",
        "\n",
        "Input\n",
        "초를 정수값을 입력\n",
        "\n",
        "\n",
        "Output\n",
        "입력된 초를 시, 분, 초로 출력\n"
      ],
      "metadata": {
        "colab": {
          "base_uri": "https://localhost:8080/"
        },
        "id": "3rpoLYw0hGyX",
        "outputId": "8e35ac18-4100-4d4b-f6a2-fe242b0d34e7"
      },
      "execution_count": 14,
      "outputs": [
        {
          "output_type": "stream",
          "name": "stdout",
          "text": [
            "정수를 입력하세요: 20\n",
            "정수를 입력하세요: 10\n",
            "정수를 입력하세요: 90\n",
            "[90, 20, 10]\n"
          ]
        }
      ]
    },
    {
      "cell_type": "code",
      "source": [
        "time = int(input('초를 입력하세요: '))\n",
        "hour = time//3600\n",
        "minute = (time%3600)//60\n",
        "second = time%60\n",
        "print(f\"{hour}시 {minute}분 {second}초 입니다.\")"
      ],
      "metadata": {
        "colab": {
          "base_uri": "https://localhost:8080/"
        },
        "id": "u691W8iij2li",
        "outputId": "e75fe0fa-4279-4140-caff-91203b91af84"
      },
      "execution_count": 26,
      "outputs": [
        {
          "output_type": "stream",
          "name": "stdout",
          "text": [
            "초를 입력하세요: 600\n",
            "0시 10분 0초 입니다.\n"
          ]
        }
      ]
    }
  ]
}