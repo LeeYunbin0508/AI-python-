{
  "nbformat": 4,
  "nbformat_minor": 0,
  "metadata": {
    "colab": {
      "provenance": [],
      "authorship_tag": "ABX9TyNRWwuQqc6uaQ+9md/uu4RD",
      "include_colab_link": true
    },
    "kernelspec": {
      "name": "python3",
      "display_name": "Python 3"
    },
    "language_info": {
      "name": "python"
    }
  },
  "cells": [
    {
      "cell_type": "markdown",
      "metadata": {
        "id": "view-in-github",
        "colab_type": "text"
      },
      "source": [
        "<a href=\"https://colab.research.google.com/github/LeeYunbin0508/AI-python-/blob/main/%EA%B3%BC%EC%A0%9C.ipynb\" target=\"_parent\"><img src=\"https://colab.research.google.com/assets/colab-badge.svg\" alt=\"Open In Colab\"/></a>"
      ]
    },
    {
      "cell_type": "code",
      "execution_count": 8,
      "metadata": {
        "colab": {
          "base_uri": "https://localhost:8080/",
          "height": 145
        },
        "id": "IQrjRyFbFgkg",
        "outputId": "0f5927e2-6733-4698-ae4b-d8c0507046c0"
      },
      "outputs": [
        {
          "output_type": "error",
          "ename": "SyntaxError",
          "evalue": "ignored",
          "traceback": [
            "\u001b[0;36m  File \u001b[0;32m\"<ipython-input-8-46690cb3d318>\"\u001b[0;36m, line \u001b[0;32m2\u001b[0m\n\u001b[0;31m    While str.isdigit(a) ==True:\u001b[0m\n\u001b[0m          ^\u001b[0m\n\u001b[0;31mSyntaxError\u001b[0m\u001b[0;31m:\u001b[0m invalid syntax\n"
          ]
        }
      ],
      "source": [
        "score = []\n",
        "\n",
        "While str.isdigit\n",
        "\n",
        "\n",
        "\n",
        "print(\"입력 데이터 출력\",score)\n",
        "print(\"합계: \",sum(score))\n",
        "print(\"인원수: \",len(score))\n",
        "print(\"평균: \", sum(score)/len(score))"
      ]
    },
    {
      "cell_type": "code",
      "source": [
        "scores = []\n",
        "\n",
        "while True:\n",
        "    score_input = input(\"학생의 점수를 입력하세요.\")\n",
        "    if not score_input.isdigit():\n",
        "        break\n",
        "    score = int(score_input)\n",
        "    scores.append(score)\n",
        "\n",
        "print(\"입력 데이터 출력: \",scores)\n",
        "print(\"합계: \",sum(scores))\n",
        "print(\"인원수: \",len(scores))\n",
        "print(\"평균: \", sum(scores)/len(scores))"
      ],
      "metadata": {
        "colab": {
          "base_uri": "https://localhost:8080/"
        },
        "id": "mik85vhCITiB",
        "outputId": "c0059fe9-d35d-4556-a87a-ddd1bb306ded"
      },
      "execution_count": 11,
      "outputs": [
        {
          "output_type": "stream",
          "name": "stdout",
          "text": [
            "학생의 점수를 입력하세요.90\n",
            "학생의 점수를 입력하세요.70\n",
            "학생의 점수를 입력하세요.30\n",
            "학생의 점수를 입력하세요.ㅌ\n",
            "입력 데이터 출력:  [90, 70, 30]\n",
            "합계:  190\n",
            "인원수:  3\n",
            "평균:  63.333333333333336\n"
          ]
        }
      ]
    }
  ]
}