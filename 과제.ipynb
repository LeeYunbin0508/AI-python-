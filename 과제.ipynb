{
  "nbformat": 4,
  "nbformat_minor": 0,
  "metadata": {
    "colab": {
      "provenance": [],
      "authorship_tag": "ABX9TyOQcLfRbOgFk/NIdJAqvkp+",
      "include_colab_link": true
    },
    "kernelspec": {
      "name": "python3",
      "display_name": "Python 3"
    },
    "language_info": {
      "name": "python"
    }
  },
  "cells": [
    {
      "cell_type": "markdown",
      "metadata": {
        "id": "view-in-github",
        "colab_type": "text"
      },
      "source": [
        "<a href=\"https://colab.research.google.com/github/LeeYunbin0508/AI-python-/blob/main/%EA%B3%BC%EC%A0%9C.ipynb\" target=\"_parent\"><img src=\"https://colab.research.google.com/assets/colab-badge.svg\" alt=\"Open In Colab\"/></a>"
      ]
    },
    {
      "cell_type": "code",
      "execution_count": null,
      "metadata": {
        "id": "ANAuFA7IcqNT"
      },
      "outputs": [],
      "source": [
        "''' 과제\n",
        "비어있는 score 리스트 변수를 사용하여 학생들의 점수를 입력받는다. 모든 학생들의 합계, 총인\n",
        "원수, 평균을 출력해 보자. 만약 입력받은 점수가 숫자가 아닌 문자이면 입력을 종료한다\n",
        "아래 프로그램의 실행 결과를 참고하여 작성해 보자."
      ]
    },
    {
      "cell_type": "code",
      "source": [
        "score = []\n",
        "i = 1\n",
        "while i <= 3:\n",
        "  score.append(int(input(\"학생의 점수를 입력하세요.\")))\n",
        "  i += 1\n",
        "print(\"입력 데이터 출력\",score)\n",
        "print(\"합계: \",sum(score))\n",
        "print(\"인원수: \",len(score))\n",
        "print(\"평균: \", sum(score)/len(score))"
      ],
      "metadata": {
        "colab": {
          "base_uri": "https://localhost:8080/"
        },
        "id": "-2vYKvY5ct29",
        "outputId": "ee684ea7-57a2-4f63-9656-baa09244df30"
      },
      "execution_count": 25,
      "outputs": [
        {
          "output_type": "stream",
          "name": "stdout",
          "text": [
            "학생의 점수를 입력하세요.90\n",
            "학생의 점수를 입력하세요.70\n",
            "학생의 점수를 입력하세요.30\n",
            "입력 데이터 출력 [90, 70, 30]\n",
            "합계:  190\n",
            "인원수:  3\n",
            "평균:  63.333333333333336\n"
          ]
        }
      ]
    }
  ]
}